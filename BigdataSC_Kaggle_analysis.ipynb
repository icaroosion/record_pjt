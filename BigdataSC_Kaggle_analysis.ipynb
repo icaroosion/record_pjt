{
 "cells": [
  {
   "cell_type": "code",
   "execution_count": 385,
   "id": "95f5ace8",
   "metadata": {},
   "outputs": [],
   "source": [
    "import pandas as pd\n",
    "import numpy as np\n",
    "import matplotlib.pyplot as plt\n",
    "import seaborn as sns\n",
    "# 머신러닝 관련 도구\n",
    "from sklearn.metrics import accuracy_score\n",
    "from sklearn.model_selection import train_test_split\n",
    "from sklearn.model_selection import cross_val_score\n",
    "from sklearn.model_selection import GridSearchCV\n",
    "\n",
    "from sklearn.neighbors import KNeighborsClassifier\n",
    "from sklearn.ensemble import AdaBoostClassifier\n",
    "from sklearn.ensemble import RandomForestClassifier\n",
    "from sklearn.ensemble import GradientBoostingClassifier\n",
    "from xgboost import XGBClassifier\n",
    "from sklearn.tree import DecisionTreeClassifier"
   ]
  },
  {
   "cell_type": "code",
   "execution_count": 2,
   "id": "9b37cfb8",
   "metadata": {
    "collapsed": true
   },
   "outputs": [
    {
     "data": {
      "text/html": [
       "<div>\n",
       "<style scoped>\n",
       "    .dataframe tbody tr th:only-of-type {\n",
       "        vertical-align: middle;\n",
       "    }\n",
       "\n",
       "    .dataframe tbody tr th {\n",
       "        vertical-align: top;\n",
       "    }\n",
       "\n",
       "    .dataframe thead th {\n",
       "        text-align: right;\n",
       "    }\n",
       "</style>\n",
       "<table border=\"1\" class=\"dataframe\">\n",
       "  <thead>\n",
       "    <tr style=\"text-align: right;\">\n",
       "      <th></th>\n",
       "      <th>Warehouse_block</th>\n",
       "      <th>Mode_of_Shipment</th>\n",
       "      <th>Customer_care_calls</th>\n",
       "      <th>Customer_rating</th>\n",
       "      <th>Cost_of_the_Product</th>\n",
       "      <th>Prior_purchases</th>\n",
       "      <th>Product_importance</th>\n",
       "      <th>Gender</th>\n",
       "      <th>Discount_offered</th>\n",
       "      <th>Weight_in_gms</th>\n",
       "      <th>Reached.on.Time_Y.N</th>\n",
       "    </tr>\n",
       "    <tr>\n",
       "      <th>ID</th>\n",
       "      <th></th>\n",
       "      <th></th>\n",
       "      <th></th>\n",
       "      <th></th>\n",
       "      <th></th>\n",
       "      <th></th>\n",
       "      <th></th>\n",
       "      <th></th>\n",
       "      <th></th>\n",
       "      <th></th>\n",
       "      <th></th>\n",
       "    </tr>\n",
       "  </thead>\n",
       "  <tbody>\n",
       "    <tr>\n",
       "      <th>1</th>\n",
       "      <td>C</td>\n",
       "      <td>Ship</td>\n",
       "      <td>2.0</td>\n",
       "      <td>2</td>\n",
       "      <td>135</td>\n",
       "      <td>3.0</td>\n",
       "      <td>low</td>\n",
       "      <td>M</td>\n",
       "      <td>NaN</td>\n",
       "      <td>1339</td>\n",
       "      <td>1</td>\n",
       "    </tr>\n",
       "    <tr>\n",
       "      <th>2</th>\n",
       "      <td>F</td>\n",
       "      <td>Flight</td>\n",
       "      <td>5.0</td>\n",
       "      <td>3</td>\n",
       "      <td>225</td>\n",
       "      <td>5.0</td>\n",
       "      <td>low</td>\n",
       "      <td>F</td>\n",
       "      <td>6.0</td>\n",
       "      <td>1082</td>\n",
       "      <td>0</td>\n",
       "    </tr>\n",
       "    <tr>\n",
       "      <th>3</th>\n",
       "      <td>F</td>\n",
       "      <td>Ship</td>\n",
       "      <td>3.0</td>\n",
       "      <td>1</td>\n",
       "      <td>229</td>\n",
       "      <td>3.0</td>\n",
       "      <td>low</td>\n",
       "      <td>M</td>\n",
       "      <td>NaN</td>\n",
       "      <td>4971</td>\n",
       "      <td>1</td>\n",
       "    </tr>\n",
       "    <tr>\n",
       "      <th>4</th>\n",
       "      <td>F</td>\n",
       "      <td>Ship</td>\n",
       "      <td>3.0</td>\n",
       "      <td>2</td>\n",
       "      <td>228</td>\n",
       "      <td>NaN</td>\n",
       "      <td>medium</td>\n",
       "      <td>M</td>\n",
       "      <td>2.0</td>\n",
       "      <td>5640</td>\n",
       "      <td>0</td>\n",
       "    </tr>\n",
       "    <tr>\n",
       "      <th>5</th>\n",
       "      <td>D</td>\n",
       "      <td>Flight</td>\n",
       "      <td>NaN</td>\n",
       "      <td>1</td>\n",
       "      <td>195</td>\n",
       "      <td>6.0</td>\n",
       "      <td>high</td>\n",
       "      <td>F</td>\n",
       "      <td>NaN</td>\n",
       "      <td>4944</td>\n",
       "      <td>1</td>\n",
       "    </tr>\n",
       "    <tr>\n",
       "      <th>...</th>\n",
       "      <td>...</td>\n",
       "      <td>...</td>\n",
       "      <td>...</td>\n",
       "      <td>...</td>\n",
       "      <td>...</td>\n",
       "      <td>...</td>\n",
       "      <td>...</td>\n",
       "      <td>...</td>\n",
       "      <td>...</td>\n",
       "      <td>...</td>\n",
       "      <td>...</td>\n",
       "    </tr>\n",
       "    <tr>\n",
       "      <th>6995</th>\n",
       "      <td>D</td>\n",
       "      <td>Ship</td>\n",
       "      <td>4.0</td>\n",
       "      <td>2</td>\n",
       "      <td>232</td>\n",
       "      <td>5.0</td>\n",
       "      <td>medium</td>\n",
       "      <td>F</td>\n",
       "      <td>4.0</td>\n",
       "      <td>1783</td>\n",
       "      <td>0</td>\n",
       "    </tr>\n",
       "    <tr>\n",
       "      <th>6996</th>\n",
       "      <td>F</td>\n",
       "      <td>Ship</td>\n",
       "      <td>3.0</td>\n",
       "      <td>5</td>\n",
       "      <td>228</td>\n",
       "      <td>2.0</td>\n",
       "      <td>medium</td>\n",
       "      <td>F</td>\n",
       "      <td>NaN</td>\n",
       "      <td>5208</td>\n",
       "      <td>0</td>\n",
       "    </tr>\n",
       "    <tr>\n",
       "      <th>6997</th>\n",
       "      <td>D</td>\n",
       "      <td>Ship</td>\n",
       "      <td>NaN</td>\n",
       "      <td>1</td>\n",
       "      <td>300</td>\n",
       "      <td>5.0</td>\n",
       "      <td>low</td>\n",
       "      <td>F</td>\n",
       "      <td>10.0</td>\n",
       "      <td>1787</td>\n",
       "      <td>0</td>\n",
       "    </tr>\n",
       "    <tr>\n",
       "      <th>6998</th>\n",
       "      <td>A</td>\n",
       "      <td>Road</td>\n",
       "      <td>3.0</td>\n",
       "      <td>1</td>\n",
       "      <td>232</td>\n",
       "      <td>2.0</td>\n",
       "      <td>medium</td>\n",
       "      <td>M</td>\n",
       "      <td>NaN</td>\n",
       "      <td>4719</td>\n",
       "      <td>0</td>\n",
       "    </tr>\n",
       "    <tr>\n",
       "      <th>6999</th>\n",
       "      <td>A</td>\n",
       "      <td>Ship</td>\n",
       "      <td>3.0</td>\n",
       "      <td>3</td>\n",
       "      <td>262</td>\n",
       "      <td>7.0</td>\n",
       "      <td>high</td>\n",
       "      <td>F</td>\n",
       "      <td>NaN</td>\n",
       "      <td>5097</td>\n",
       "      <td>0</td>\n",
       "    </tr>\n",
       "  </tbody>\n",
       "</table>\n",
       "<p>6999 rows × 11 columns</p>\n",
       "</div>"
      ],
      "text/plain": [
       "     Warehouse_block  Mode_of_Shipment  Customer_care_calls  Customer_rating  \\\n",
       "ID                                                                             \n",
       "1                   C             Ship                  2.0                2   \n",
       "2                   F           Flight                  5.0                3   \n",
       "3                   F             Ship                  3.0                1   \n",
       "4                   F             Ship                  3.0                2   \n",
       "5                   D           Flight                  NaN                1   \n",
       "...               ...              ...                  ...              ...   \n",
       "6995                D             Ship                  4.0                2   \n",
       "6996                F             Ship                  3.0                5   \n",
       "6997                D             Ship                  NaN                1   \n",
       "6998                A             Road                  3.0                1   \n",
       "6999                A             Ship                  3.0                3   \n",
       "\n",
       "      Cost_of_the_Product  Prior_purchases Product_importance Gender  \\\n",
       "ID                                                                     \n",
       "1                     135              3.0                low      M   \n",
       "2                     225              5.0                low      F   \n",
       "3                     229              3.0                low      M   \n",
       "4                     228              NaN             medium      M   \n",
       "5                     195              6.0               high      F   \n",
       "...                   ...              ...                ...    ...   \n",
       "6995                  232              5.0             medium      F   \n",
       "6996                  228              2.0             medium      F   \n",
       "6997                  300              5.0                low      F   \n",
       "6998                  232              2.0             medium      M   \n",
       "6999                  262              7.0               high      F   \n",
       "\n",
       "      Discount_offered Weight_in_gms  Reached.on.Time_Y.N  \n",
       "ID                                                         \n",
       "1                  NaN          1339                    1  \n",
       "2                  6.0          1082                    0  \n",
       "3                  NaN          4971                    1  \n",
       "4                  2.0          5640                    0  \n",
       "5                  NaN          4944                    1  \n",
       "...                ...           ...                  ...  \n",
       "6995               4.0          1783                    0  \n",
       "6996               NaN          5208                    0  \n",
       "6997              10.0          1787                    0  \n",
       "6998               NaN          4719                    0  \n",
       "6999               NaN          5097                    0  \n",
       "\n",
       "[6999 rows x 11 columns]"
      ]
     },
     "execution_count": 2,
     "metadata": {},
     "output_type": "execute_result"
    }
   ],
   "source": [
    "train_data = pd.read_csv('./data/bigdatasc/Train.csv', index_col='ID')\n",
    "train_data"
   ]
  },
  {
   "cell_type": "code",
   "execution_count": 267,
   "id": "c17054ba",
   "metadata": {},
   "outputs": [
    {
     "data": {
      "text/html": [
       "<div>\n",
       "<style scoped>\n",
       "    .dataframe tbody tr th:only-of-type {\n",
       "        vertical-align: middle;\n",
       "    }\n",
       "\n",
       "    .dataframe tbody tr th {\n",
       "        vertical-align: top;\n",
       "    }\n",
       "\n",
       "    .dataframe thead th {\n",
       "        text-align: right;\n",
       "    }\n",
       "</style>\n",
       "<table border=\"1\" class=\"dataframe\">\n",
       "  <thead>\n",
       "    <tr style=\"text-align: right;\">\n",
       "      <th></th>\n",
       "      <th>Warehouse_block</th>\n",
       "      <th>Mode_of_Shipment</th>\n",
       "      <th>Customer_care_calls</th>\n",
       "      <th>Customer_rating</th>\n",
       "      <th>Cost_of_the_Product</th>\n",
       "      <th>Prior_purchases</th>\n",
       "      <th>Product_importance</th>\n",
       "      <th>Gender</th>\n",
       "      <th>Discount_offered</th>\n",
       "      <th>Weight_in_gms</th>\n",
       "    </tr>\n",
       "    <tr>\n",
       "      <th>ID</th>\n",
       "      <th></th>\n",
       "      <th></th>\n",
       "      <th></th>\n",
       "      <th></th>\n",
       "      <th></th>\n",
       "      <th></th>\n",
       "      <th></th>\n",
       "      <th></th>\n",
       "      <th></th>\n",
       "      <th></th>\n",
       "    </tr>\n",
       "  </thead>\n",
       "  <tbody>\n",
       "    <tr>\n",
       "      <th>7000</th>\n",
       "      <td>F</td>\n",
       "      <td>Ship</td>\n",
       "      <td>3.0</td>\n",
       "      <td>1</td>\n",
       "      <td>274</td>\n",
       "      <td>NaN</td>\n",
       "      <td>high</td>\n",
       "      <td>M</td>\n",
       "      <td>NaN</td>\n",
       "      <td>4352</td>\n",
       "    </tr>\n",
       "    <tr>\n",
       "      <th>7001</th>\n",
       "      <td>F</td>\n",
       "      <td>Ship</td>\n",
       "      <td>3.0</td>\n",
       "      <td>4</td>\n",
       "      <td>136</td>\n",
       "      <td>2.0</td>\n",
       "      <td>medium</td>\n",
       "      <td>F</td>\n",
       "      <td>NaN</td>\n",
       "      <td>1056</td>\n",
       "    </tr>\n",
       "    <tr>\n",
       "      <th>7002</th>\n",
       "      <td>A</td>\n",
       "      <td>Flight</td>\n",
       "      <td>NaN</td>\n",
       "      <td>5</td>\n",
       "      <td>140</td>\n",
       "      <td>3.0</td>\n",
       "      <td>low</td>\n",
       "      <td>F</td>\n",
       "      <td>7.0</td>\n",
       "      <td>5383</td>\n",
       "    </tr>\n",
       "    <tr>\n",
       "      <th>7003</th>\n",
       "      <td>C</td>\n",
       "      <td>Ship</td>\n",
       "      <td>NaN</td>\n",
       "      <td>1</td>\n",
       "      <td>291</td>\n",
       "      <td>4.0</td>\n",
       "      <td>low</td>\n",
       "      <td>F</td>\n",
       "      <td>NaN</td>\n",
       "      <td>1880</td>\n",
       "    </tr>\n",
       "    <tr>\n",
       "      <th>7004</th>\n",
       "      <td>F</td>\n",
       "      <td>?</td>\n",
       "      <td>4.0</td>\n",
       "      <td>2</td>\n",
       "      <td>147</td>\n",
       "      <td>3.0</td>\n",
       "      <td>low</td>\n",
       "      <td>F</td>\n",
       "      <td>5.0</td>\n",
       "      <td>5174</td>\n",
       "    </tr>\n",
       "    <tr>\n",
       "      <th>...</th>\n",
       "      <td>...</td>\n",
       "      <td>...</td>\n",
       "      <td>...</td>\n",
       "      <td>...</td>\n",
       "      <td>...</td>\n",
       "      <td>...</td>\n",
       "      <td>...</td>\n",
       "      <td>...</td>\n",
       "      <td>...</td>\n",
       "      <td>...</td>\n",
       "    </tr>\n",
       "    <tr>\n",
       "      <th>10995</th>\n",
       "      <td>A</td>\n",
       "      <td>?</td>\n",
       "      <td>4.0</td>\n",
       "      <td>1</td>\n",
       "      <td>204</td>\n",
       "      <td>4.0</td>\n",
       "      <td>?</td>\n",
       "      <td>F</td>\n",
       "      <td>NaN</td>\n",
       "      <td>1667</td>\n",
       "    </tr>\n",
       "    <tr>\n",
       "      <th>10996</th>\n",
       "      <td>C</td>\n",
       "      <td>Ship</td>\n",
       "      <td>NaN</td>\n",
       "      <td>3</td>\n",
       "      <td>195</td>\n",
       "      <td>2.0</td>\n",
       "      <td>medium</td>\n",
       "      <td>M</td>\n",
       "      <td>NaN</td>\n",
       "      <td>3869</td>\n",
       "    </tr>\n",
       "    <tr>\n",
       "      <th>10997</th>\n",
       "      <td>B</td>\n",
       "      <td>Flight</td>\n",
       "      <td>NaN</td>\n",
       "      <td>3</td>\n",
       "      <td>206</td>\n",
       "      <td>2.0</td>\n",
       "      <td>medium</td>\n",
       "      <td>M</td>\n",
       "      <td>7.0</td>\n",
       "      <td>4531</td>\n",
       "    </tr>\n",
       "    <tr>\n",
       "      <th>10998</th>\n",
       "      <td>C</td>\n",
       "      <td>Ship</td>\n",
       "      <td>6.0</td>\n",
       "      <td>4</td>\n",
       "      <td>255</td>\n",
       "      <td>4.0</td>\n",
       "      <td>low</td>\n",
       "      <td>M</td>\n",
       "      <td>7.0</td>\n",
       "      <td>1869</td>\n",
       "    </tr>\n",
       "    <tr>\n",
       "      <th>10999</th>\n",
       "      <td>D</td>\n",
       "      <td>Ship</td>\n",
       "      <td>5.0</td>\n",
       "      <td>1</td>\n",
       "      <td>252</td>\n",
       "      <td>5.0</td>\n",
       "      <td>?</td>\n",
       "      <td>M</td>\n",
       "      <td>4.0</td>\n",
       "      <td>1308</td>\n",
       "    </tr>\n",
       "  </tbody>\n",
       "</table>\n",
       "<p>4000 rows × 10 columns</p>\n",
       "</div>"
      ],
      "text/plain": [
       "      Warehouse_block  Mode_of_Shipment  Customer_care_calls  Customer_rating  \\\n",
       "ID                                                                              \n",
       "7000                 F             Ship                  3.0                1   \n",
       "7001                 F             Ship                  3.0                4   \n",
       "7002                 A           Flight                  NaN                5   \n",
       "7003                 C             Ship                  NaN                1   \n",
       "7004                 F                ?                  4.0                2   \n",
       "...                ...              ...                  ...              ...   \n",
       "10995                A                ?                  4.0                1   \n",
       "10996                C             Ship                  NaN                3   \n",
       "10997                B           Flight                  NaN                3   \n",
       "10998                C             Ship                  6.0                4   \n",
       "10999                D             Ship                  5.0                1   \n",
       "\n",
       "       Cost_of_the_Product  Prior_purchases Product_importance Gender  \\\n",
       "ID                                                                      \n",
       "7000                   274              NaN               high      M   \n",
       "7001                   136              2.0             medium      F   \n",
       "7002                   140              3.0                low      F   \n",
       "7003                   291              4.0                low      F   \n",
       "7004                   147              3.0                low      F   \n",
       "...                    ...              ...                ...    ...   \n",
       "10995                  204              4.0                  ?      F   \n",
       "10996                  195              2.0             medium      M   \n",
       "10997                  206              2.0             medium      M   \n",
       "10998                  255              4.0                low      M   \n",
       "10999                  252              5.0                  ?      M   \n",
       "\n",
       "       Discount_offered Weight_in_gms  \n",
       "ID                                     \n",
       "7000                NaN          4352  \n",
       "7001                NaN          1056  \n",
       "7002                7.0          5383  \n",
       "7003                NaN          1880  \n",
       "7004                5.0          5174  \n",
       "...                 ...           ...  \n",
       "10995               NaN          1667  \n",
       "10996               NaN          3869  \n",
       "10997               7.0          4531  \n",
       "10998               7.0          1869  \n",
       "10999               4.0          1308  \n",
       "\n",
       "[4000 rows x 10 columns]"
      ]
     },
     "execution_count": 267,
     "metadata": {},
     "output_type": "execute_result"
    }
   ],
   "source": [
    "test_data = pd.read_csv('./data/bigdatasc/test.csv', index_col='ID')\n",
    "test_data"
   ]
  },
  {
   "cell_type": "code",
   "execution_count": 4,
   "id": "06aea907",
   "metadata": {
    "collapsed": true
   },
   "outputs": [
    {
     "data": {
      "text/plain": [
       "Index(['Warehouse_block ', 'Mode_of_Shipment', 'Customer_care_calls',\n",
       "       'Customer_rating', 'Cost_of_the_Product', 'Prior_purchases',\n",
       "       'Product_importance', 'Gender', 'Discount_offered', 'Weight_in_gms',\n",
       "       'Reached.on.Time_Y.N'],\n",
       "      dtype='object')"
      ]
     },
     "execution_count": 4,
     "metadata": {},
     "output_type": "execute_result"
    }
   ],
   "source": [
    "train_data.columns\n",
    "# Warehouse_block : 물류창고\n",
    "# Mode_of_Shipment : 배송방법\n",
    "# Customer_care_calls : 고객 관리 전화\n",
    "# Customer_rating : 고객 평가\n",
    "# Cost_of_the_Product : 제품가격\n",
    "# Prior_purchases : 이전 구매\n",
    "# Product_importance : 제품 중요도\n",
    "# Gender : 성별\n",
    "# Discount_offered : 할인\n",
    "# Weight_in_gms : 운송무게\n",
    "# Reached.on.Time_Y.N : 재시간 도착 여부"
   ]
  },
  {
   "cell_type": "code",
   "execution_count": 5,
   "id": "2d3f19e1",
   "metadata": {},
   "outputs": [
    {
     "name": "stdout",
     "output_type": "stream",
     "text": [
      "(6999, 11)\n",
      "(4000, 10)\n"
     ]
    }
   ],
   "source": [
    "print(train_data.shape)\n",
    "print(test_data.shape)"
   ]
  },
  {
   "cell_type": "code",
   "execution_count": 232,
   "id": "8e2b6c0f",
   "metadata": {
    "collapsed": true
   },
   "outputs": [
    {
     "name": "stdout",
     "output_type": "stream",
     "text": [
      "<class 'pandas.core.frame.DataFrame'>\n",
      "Int64Index: 6999 entries, 1 to 6999\n",
      "Data columns (total 11 columns):\n",
      " #   Column               Non-Null Count  Dtype  \n",
      "---  ------               --------------  -----  \n",
      " 0   Warehouse_block      6999 non-null   int64  \n",
      " 1   Mode_of_Shipment     6999 non-null   int64  \n",
      " 2   Customer_care_calls  6999 non-null   float64\n",
      " 3   Customer_rating      6999 non-null   int64  \n",
      " 4   Cost_of_the_Product  6999 non-null   int64  \n",
      " 5   Prior_purchases      6999 non-null   float64\n",
      " 6   Product_importance   6999 non-null   int64  \n",
      " 7   Gender               6999 non-null   int64  \n",
      " 8   Discount_offered     6999 non-null   float64\n",
      " 9   Weight_in_gms        6999 non-null   int64  \n",
      " 10  Reached.on.Time_Y.N  6999 non-null   int64  \n",
      "dtypes: float64(3), int64(8)\n",
      "memory usage: 914.2 KB\n",
      "<class 'pandas.core.frame.DataFrame'>\n",
      "Int64Index: 4000 entries, 7000 to 10999\n",
      "Data columns (total 10 columns):\n",
      " #   Column               Non-Null Count  Dtype  \n",
      "---  ------               --------------  -----  \n",
      " 0   Warehouse_block      4000 non-null   object \n",
      " 1   Mode_of_Shipment     4000 non-null   object \n",
      " 2   Customer_care_calls  3144 non-null   float64\n",
      " 3   Customer_rating      4000 non-null   int64  \n",
      " 4   Cost_of_the_Product  4000 non-null   int64  \n",
      " 5   Prior_purchases      3633 non-null   float64\n",
      " 6   Product_importance   4000 non-null   object \n",
      " 7   Gender               4000 non-null   object \n",
      " 8   Discount_offered     2085 non-null   float64\n",
      " 9   Weight_in_gms        4000 non-null   object \n",
      "dtypes: float64(3), int64(2), object(5)\n",
      "memory usage: 343.8+ KB\n"
     ]
    }
   ],
   "source": [
    "train_data.info()    # Customer_care_calls, Prior_purchases, Discount_offered\n",
    "test_data.info()    # Customer_care_calls, Prior_purchase"
   ]
  },
  {
   "cell_type": "code",
   "execution_count": 7,
   "id": "cba6af6d",
   "metadata": {
    "collapsed": true
   },
   "outputs": [
    {
     "name": "stdout",
     "output_type": "stream",
     "text": [
      "train_data :\n",
      " Warehouse_block           0\n",
      "Mode_of_Shipment          0\n",
      "Customer_care_calls    1576\n",
      "Customer_rating           0\n",
      "Cost_of_the_Product       0\n",
      "Prior_purchases         950\n",
      "Product_importance        0\n",
      "Gender                    0\n",
      "Discount_offered       3531\n",
      "Weight_in_gms             0\n",
      "Reached.on.Time_Y.N       0\n",
      "dtype: int64\n"
     ]
    },
    {
     "data": {
      "text/plain": [
       "Warehouse_block           0\n",
       "Mode_of_Shipment          0\n",
       "Customer_care_calls     856\n",
       "Customer_rating           0\n",
       "Cost_of_the_Product       0\n",
       "Prior_purchases         367\n",
       "Product_importance        0\n",
       "Gender                    0\n",
       "Discount_offered       1915\n",
       "Weight_in_gms             0\n",
       "dtype: int64"
      ]
     },
     "execution_count": 7,
     "metadata": {},
     "output_type": "execute_result"
    }
   ],
   "source": [
    "print('train_data :\\n',train_data.isnull().sum())\n",
    "test_data.isnull().sum()"
   ]
  },
  {
   "cell_type": "code",
   "execution_count": 27,
   "id": "5cf8460c",
   "metadata": {
    "collapsed": true
   },
   "outputs": [
    {
     "data": {
      "text/plain": [
       "4.0    3332\n",
       "3.0    1620\n",
       "5.0    1147\n",
       "6.0     496\n",
       "2.0     287\n",
       "7.0     117\n",
       "Name: Customer_care_calls, dtype: int64"
      ]
     },
     "execution_count": 27,
     "metadata": {},
     "output_type": "execute_result"
    }
   ],
   "source": [
    "train_data['Customer_care_calls'].fillna(4, inplace=True)\n",
    "\n",
    "train_data['Customer_care_calls'].isnull().sum()    # 결측치 확인 완료\n",
    "train_data['Customer_care_calls'].describe()   # 결측치 4.0\n",
    "train_data['Customer_care_calls'].value_counts()    # 7을 이상치로 제거...? 우선 keep"
   ]
  },
  {
   "cell_type": "code",
   "execution_count": 197,
   "id": "ea5ec6e8",
   "metadata": {
    "collapsed": true
   },
   "outputs": [
    {
     "name": "stdout",
     "output_type": "stream",
     "text": [
      "count    6999.000000\n",
      "mean       14.142306\n",
      "std        11.344323\n",
      "min         1.000000\n",
      "25%         7.000000\n",
      "50%        15.000000\n",
      "75%        15.000000\n",
      "max        65.000000\n",
      "Name: Discount_offered, dtype: float64\n",
      "1915\n",
      "3.0     171\n",
      "7.0     170\n",
      "5.0     169\n",
      "6.0     166\n",
      "8.0     161\n",
      "       ... \n",
      "55.0      4\n",
      "30.0      4\n",
      "58.0      4\n",
      "34.0      3\n",
      "65.0      2\n",
      "Name: Discount_offered, Length: 65, dtype: int64\n"
     ]
    }
   ],
   "source": [
    "print(train_data['Discount_offered'].describe())    # 결측치 15\n",
    "print(test_data['Discount_offered'].isnull().sum())\n",
    "print(test_data['Discount_offered'].value_counts()) # 20 위로 다 잘라볼 생각\n",
    "test_data['Discount_offered'] = test_data['Discount_offered'].fillna(15, inplace=True)"
   ]
  },
  {
   "cell_type": "code",
   "execution_count": 32,
   "id": "d29b32e1",
   "metadata": {
    "collapsed": true
   },
   "outputs": [
    {
     "name": "stdout",
     "output_type": "stream",
     "text": [
      "count    6999.000000\n",
      "mean        3.498071\n",
      "std         1.436854\n",
      "min         2.000000\n",
      "25%         3.000000\n",
      "50%         3.000000\n",
      "75%         4.000000\n",
      "max        10.000000\n",
      "Name: Prior_purchases, dtype: float64\n",
      "3.0     3126\n",
      "2.0     1423\n",
      "4.0     1162\n",
      "5.0      735\n",
      "6.0      310\n",
      "10.0     101\n",
      "8.0       72\n",
      "7.0       70\n",
      "Name: Prior_purchases, dtype: int64\n",
      "0\n"
     ]
    }
   ],
   "source": [
    "print(train_data['Prior_purchases'].describe())    # 결측치 3\n",
    "print(train_data['Prior_purchases'].value_counts())  # 이상치 8, 10 제거 생각중\n",
    "train_data['Prior_purchases'].fillna(3, inplace=True)\n",
    "print(train_data['Prior_purchases'].isnull().sum())"
   ]
  },
  {
   "cell_type": "code",
   "execution_count": 11,
   "id": "b124fb51",
   "metadata": {
    "collapsed": true
   },
   "outputs": [
    {
     "data": {
      "text/plain": [
       "Prior_purchases        1.000000\n",
       "Customer_care_calls    0.173709\n",
       "Discount_offered       0.081868\n",
       "Reached.on.Time_Y.N    0.065160\n",
       "Cost_of_the_Product    0.028947\n",
       "Customer_rating        0.008217\n",
       "Name: Prior_purchases, dtype: float64"
      ]
     },
     "execution_count": 11,
     "metadata": {},
     "output_type": "execute_result"
    }
   ],
   "source": [
    "# 상관관계 분석\n",
    "train_data.corr()['Prior_purchases'].abs().sort_values(ascending=False)"
   ]
  },
  {
   "cell_type": "code",
   "execution_count": 12,
   "id": "e4051c30",
   "metadata": {
    "collapsed": true
   },
   "outputs": [
    {
     "data": {
      "text/plain": [
       "Discount_offered       1.000000\n",
       "Reached.on.Time_Y.N    0.397393\n",
       "Customer_care_calls    0.158465\n",
       "Cost_of_the_Product    0.139349\n",
       "Prior_purchases        0.081868\n",
       "Customer_rating        0.016456\n",
       "Name: Discount_offered, dtype: float64"
      ]
     },
     "execution_count": 12,
     "metadata": {},
     "output_type": "execute_result"
    }
   ],
   "source": [
    "train_data.corr()['Discount_offered'].abs().sort_values(ascending=False)"
   ]
  },
  {
   "cell_type": "code",
   "execution_count": 13,
   "id": "8fea536a",
   "metadata": {
    "collapsed": true
   },
   "outputs": [
    {
     "data": {
      "text/plain": [
       "Customer_care_calls    1.000000\n",
       "Prior_purchases        0.173709\n",
       "Discount_offered       0.158465\n",
       "Reached.on.Time_Y.N    0.070266\n",
       "Cost_of_the_Product    0.047041\n",
       "Customer_rating        0.013420\n",
       "Name: Customer_care_calls, dtype: float64"
      ]
     },
     "execution_count": 13,
     "metadata": {},
     "output_type": "execute_result"
    }
   ],
   "source": [
    "train_data.corr()['Customer_care_calls'].abs().sort_values(ascending=False)"
   ]
  },
  {
   "cell_type": "code",
   "execution_count": 14,
   "id": "fa269570",
   "metadata": {
    "collapsed": true
   },
   "outputs": [
    {
     "data": {
      "text/plain": [
       "ID\n",
       "1          Ship\n",
       "2        Flight\n",
       "3          Ship\n",
       "4          Ship\n",
       "5        Flight\n",
       "         ...   \n",
       "6995       Ship\n",
       "6996       Ship\n",
       "6997       Ship\n",
       "6998       Road\n",
       "6999       Ship\n",
       "Name: Mode_of_Shipment, Length: 6999, dtype: object"
      ]
     },
     "execution_count": 14,
     "metadata": {},
     "output_type": "execute_result"
    }
   ],
   "source": [
    "train_data['Mode_of_Shipment'].replace(to_replace=('Ship', 0))"
   ]
  },
  {
   "cell_type": "code",
   "execution_count": 15,
   "id": "7023fe74",
   "metadata": {
    "collapsed": true
   },
   "outputs": [
    {
     "data": {
      "text/plain": [
       "count    6999.000000\n",
       "mean      214.249178\n",
       "std       208.294273\n",
       "min        96.000000\n",
       "25%       169.000000\n",
       "50%       214.000000\n",
       "75%       251.000000\n",
       "max      9999.000000\n",
       "Name: Cost_of_the_Product, dtype: float64"
      ]
     },
     "execution_count": 15,
     "metadata": {},
     "output_type": "execute_result"
    }
   ],
   "source": [
    "train_data['Cost_of_the_Product'].describe()"
   ]
  },
  {
   "cell_type": "code",
   "execution_count": 16,
   "id": "91b33db1",
   "metadata": {
    "collapsed": true
   },
   "outputs": [
    {
     "data": {
      "text/plain": [
       "array(['C', 'F', 'D', 'B', 'A'], dtype=object)"
      ]
     },
     "execution_count": 16,
     "metadata": {},
     "output_type": "execute_result"
    }
   ],
   "source": [
    "  train_data['Warehouse_block '].unique()"
   ]
  },
  {
   "cell_type": "code",
   "execution_count": 17,
   "id": "ee8eda37",
   "metadata": {
    "collapsed": true
   },
   "outputs": [
    {
     "data": {
      "text/plain": [
       "?       446\n",
       "1817      8\n",
       "1367      8\n",
       "5709      7\n",
       "1861      7\n",
       "       ... \n",
       "4964      1\n",
       "5612      1\n",
       "2443      1\n",
       "2497      1\n",
       "1480      1\n",
       "Name: Weight_in_gms, Length: 3332, dtype: int64"
      ]
     },
     "execution_count": 17,
     "metadata": {},
     "output_type": "execute_result"
    }
   ],
   "source": [
    "train_data['Weight_in_gms'].value_counts()"
   ]
  },
  {
   "cell_type": "code",
   "execution_count": 263,
   "id": "60f8bc06",
   "metadata": {},
   "outputs": [
    {
     "data": {
      "text/plain": [
       "Warehouse_block           0\n",
       "Mode_of_Shipment          0\n",
       "Customer_care_calls     856\n",
       "Customer_rating           0\n",
       "Cost_of_the_Product       0\n",
       "Prior_purchases         367\n",
       "Product_importance        0\n",
       "Gender                    0\n",
       "Discount_offered       1915\n",
       "Weight_in_gms             0\n",
       "dtype: int64"
      ]
     },
     "execution_count": 263,
     "metadata": {},
     "output_type": "execute_result"
    }
   ],
   "source": [
    "# test_data 결측치 채우기\n",
    "test_data.isnull().sum()"
   ]
  },
  {
   "cell_type": "code",
   "execution_count": 249,
   "id": "4dbc6c1d",
   "metadata": {},
   "outputs": [
    {
     "name": "stdout",
     "output_type": "stream",
     "text": [
      "count    4000.000000\n",
      "mean        3.515250\n",
      "std         1.460582\n",
      "min         2.000000\n",
      "25%         3.000000\n",
      "50%         3.000000\n",
      "75%         4.000000\n",
      "max        10.000000\n",
      "Name: Prior_purchases, dtype: float64\n",
      "3.0     1660\n",
      "2.0      866\n",
      "4.0      723\n",
      "5.0      414\n",
      "6.0      184\n",
      "10.0      56\n",
      "7.0       53\n",
      "8.0       44\n",
      "Name: Prior_purchases, dtype: int64\n",
      "4000\n"
     ]
    }
   ],
   "source": [
    "print(test_data['Prior_purchases'].describe())    # 결측치 3\n",
    "print(test_data['Prior_purchases'].value_counts())  # 이상치 8, 10 제거 생각중\n",
    "test_data['Prior_purchases'] = test_data['Prior_purchases'].fillna(3, inplace=True)\n",
    "print(test_data['Prior_purchases'].isnull().sum())"
   ]
  },
  {
   "cell_type": "code",
   "execution_count": 265,
   "id": "cbe46655",
   "metadata": {},
   "outputs": [
    {
     "name": "stdout",
     "output_type": "stream",
     "text": [
      "4000\n",
      "count       0\n",
      "unique      0\n",
      "top       NaN\n",
      "freq      NaN\n",
      "Name: Customer_care_calls, dtype: object\n",
      "Series([], Name: Customer_care_calls, dtype: int64)\n"
     ]
    }
   ],
   "source": [
    "test_data['Customer_care_calls'] = test_data['Customer_care_calls'].fillna(4, inplace=True)\n",
    "print(test_data['Customer_care_calls'].isnull().sum())    # 결측치 확인 완료\n",
    "print(test_data['Customer_care_calls'].describe())   # 결측치 4.0\n",
    "print(test_data['Customer_care_calls'].value_counts())    # 7을 이상치로 제거...? 우선 keep"
   ]
  },
  {
   "cell_type": "code",
   "execution_count": 59,
   "id": "518890ff",
   "metadata": {
    "collapsed": true
   },
   "outputs": [
    {
     "data": {
      "text/plain": [
       "Index(['Warehouse_block', 'Mode_of_Shipment', 'Customer_care_calls',\n",
       "       'Customer_rating', 'Cost_of_the_Product', 'Prior_purchases',\n",
       "       'Product_importance', 'Gender', 'Discount_offered', 'Weight_in_gms',\n",
       "       'Reached.on.Time_Y.N'],\n",
       "      dtype='object')"
      ]
     },
     "execution_count": 59,
     "metadata": {},
     "output_type": "execute_result"
    }
   ],
   "source": [
    "train_data.columns = train_data.columns.str.strip(' ')\n",
    "train_data.columns"
   ]
  },
  {
   "cell_type": "code",
   "execution_count": 201,
   "id": "a1781cc4",
   "metadata": {},
   "outputs": [
    {
     "data": {
      "text/plain": [
       "Index(['Warehouse_block', 'Mode_of_Shipment', 'Customer_care_calls',\n",
       "       'Customer_rating', 'Cost_of_the_Product', 'Prior_purchases',\n",
       "       'Product_importance', 'Gender', 'Discount_offered', 'Weight_in_gms'],\n",
       "      dtype='object')"
      ]
     },
     "execution_count": 201,
     "metadata": {},
     "output_type": "execute_result"
    }
   ],
   "source": [
    "test_data.columns = test_data.columns.str.strip(' ')\n",
    "test_data.columns"
   ]
  },
  {
   "cell_type": "code",
   "execution_count": 67,
   "id": "7b19c428",
   "metadata": {},
   "outputs": [
    {
     "data": {
      "text/plain": [
       "array(['C', 'F', 'D', 'B', 'A'], dtype=object)"
      ]
     },
     "execution_count": 67,
     "metadata": {},
     "output_type": "execute_result"
    }
   ],
   "source": [
    "train_data['Warehouse_block'].unique()"
   ]
  },
  {
   "cell_type": "code",
   "execution_count": 78,
   "id": "dbbc9970",
   "metadata": {
    "collapsed": true
   },
   "outputs": [
    {
     "data": {
      "text/plain": [
       "ID\n",
       "1       2\n",
       "2       4\n",
       "3       4\n",
       "4       4\n",
       "5       3\n",
       "       ..\n",
       "6995    3\n",
       "6996    4\n",
       "6997    3\n",
       "6998    0\n",
       "6999    0\n",
       "Name: Warehouse_block, Length: 6999, dtype: int64"
      ]
     },
     "execution_count": 78,
     "metadata": {},
     "output_type": "execute_result"
    }
   ],
   "source": [
    "# 데이터 타입 변경 및 값 변경\n",
    "train_data['Warehouse_block'] = train_data['Warehouse_block'].replace('A', 0)\n",
    "train_data['Warehouse_block'] = train_data['Warehouse_block'].replace('B', 1)\n",
    "train_data['Warehouse_block'] = train_data['Warehouse_block'].replace('C', 2)\n",
    "train_data['Warehouse_block'] = train_data['Warehouse_block'].replace('D', 3)\n",
    "train_data['Warehouse_block'] = train_data['Warehouse_block'].replace('F', 4)\n",
    "train_data['Warehouse_block']"
   ]
  },
  {
   "cell_type": "code",
   "execution_count": 79,
   "id": "0e7e9b2c",
   "metadata": {
    "collapsed": true
   },
   "outputs": [
    {
     "data": {
      "text/plain": [
       "ID\n",
       "1       2\n",
       "2       4\n",
       "3       4\n",
       "4       4\n",
       "5       3\n",
       "       ..\n",
       "6995    3\n",
       "6996    4\n",
       "6997    3\n",
       "6998    0\n",
       "6999    0\n",
       "Name: Warehouse_block, Length: 6999, dtype: int64"
      ]
     },
     "execution_count": 79,
     "metadata": {},
     "output_type": "execute_result"
    }
   ],
   "source": [
    "train_data['Warehouse_block']"
   ]
  },
  {
   "cell_type": "code",
   "execution_count": 99,
   "id": "baa06f16",
   "metadata": {},
   "outputs": [],
   "source": [
    "train_data['Mode_of_Shipment'] = train_data['Mode_of_Shipment'].replace('Shipzk', 'Ship')\n",
    "train_data['Mode_of_Shipment'] = train_data['Mode_of_Shipment'].replace('Flightzk', 'Flight')\n",
    "train_data['Mode_of_Shipment'] = train_data['Mode_of_Shipment'].replace('Roadzk', 'Road')\n",
    "train_data['Mode_of_Shipment'] = train_data['Mode_of_Shipment'].replace('?', 'Ship')"
   ]
  },
  {
   "cell_type": "code",
   "execution_count": 90,
   "id": "d67ff036",
   "metadata": {},
   "outputs": [],
   "source": [
    "train_data['Mode_of_Shipment'] = train_data['Mode_of_Shipment'].str.strip(' ')"
   ]
  },
  {
   "cell_type": "code",
   "execution_count": 104,
   "id": "7e669184",
   "metadata": {
    "collapsed": true
   },
   "outputs": [
    {
     "data": {
      "text/plain": [
       "array([0, 1, 2], dtype=int64)"
      ]
     },
     "execution_count": 104,
     "metadata": {},
     "output_type": "execute_result"
    }
   ],
   "source": [
    "train_data['Mode_of_Shipment'].unique()"
   ]
  },
  {
   "cell_type": "code",
   "execution_count": 98,
   "id": "1386912e",
   "metadata": {
    "collapsed": true
   },
   "outputs": [
    {
     "data": {
      "text/plain": [
       "Ship      4510\n",
       "Road      1076\n",
       "Flight    1040\n",
       "?          373\n",
       "Name: Mode_of_Shipment, dtype: int64"
      ]
     },
     "execution_count": 98,
     "metadata": {},
     "output_type": "execute_result"
    }
   ],
   "source": [
    "train_data['Mode_of_Shipment'].value_counts()   # 배가 많으니까 배로 바꾸자 물음표는!!"
   ]
  },
  {
   "cell_type": "code",
   "execution_count": 103,
   "id": "bdca934f",
   "metadata": {},
   "outputs": [],
   "source": [
    "# 배 0, 길 1, 비행기 2\n",
    "train_data['Mode_of_Shipment'] = train_data['Mode_of_Shipment'].replace('0', 0)\n",
    "train_data['Mode_of_Shipment'] = train_data['Mode_of_Shipment'].replace('1', 1)\n",
    "train_data['Mode_of_Shipment'] = train_data['Mode_of_Shipment'].replace('2', 2)"
   ]
  },
  {
   "cell_type": "code",
   "execution_count": 118,
   "id": "737158db",
   "metadata": {},
   "outputs": [
    {
     "data": {
      "text/plain": [
       "array([0, 1, 2], dtype=int64)"
      ]
     },
     "execution_count": 118,
     "metadata": {},
     "output_type": "execute_result"
    }
   ],
   "source": [
    "train_data['Product_importance'].unique()\n",
    "\n",
    "# low 0 medium 1 high 2 변경"
   ]
  },
  {
   "cell_type": "code",
   "execution_count": 115,
   "id": "80842fb2",
   "metadata": {},
   "outputs": [],
   "source": [
    "train_data['Product_importance'] = train_data['Product_importance'].replace('mediumm', 'medium')\n",
    "train_data['Product_importance'] = train_data['Product_importance'].replace('loww', 'low')\n",
    "train_data['Product_importance'] = train_data['Product_importance'].replace('highh', 'high')\n",
    "train_data['Product_importance'] = train_data['Product_importance'].replace('?', 'low')"
   ]
  },
  {
   "cell_type": "code",
   "execution_count": 114,
   "id": "161d1fb4",
   "metadata": {
    "collapsed": true
   },
   "outputs": [
    {
     "data": {
      "text/plain": [
       "low       3345\n",
       "medium    2983\n",
       "high       574\n",
       "?           97\n",
       "Name: Product_importance, dtype: int64"
      ]
     },
     "execution_count": 114,
     "metadata": {},
     "output_type": "execute_result"
    }
   ],
   "source": [
    "train_data['Product_importance'].value_counts()  # ?는 가장 많은 값인 low 값으로.."
   ]
  },
  {
   "cell_type": "code",
   "execution_count": 117,
   "id": "21314def",
   "metadata": {},
   "outputs": [],
   "source": [
    "train_data['Product_importance'] = train_data['Product_importance'].replace('medium', 1)\n",
    "train_data['Product_importance'] = train_data['Product_importance'].replace('low', 0)\n",
    "train_data['Product_importance'] = train_data['Product_importance'].replace('high', 2)"
   ]
  },
  {
   "cell_type": "code",
   "execution_count": null,
   "id": "a0709c3e",
   "metadata": {},
   "outputs": [],
   "source": [
    "# Gender data - M 0 F 1"
   ]
  },
  {
   "cell_type": "code",
   "execution_count": 121,
   "id": "67e89b06",
   "metadata": {},
   "outputs": [],
   "source": [
    "train_data['Gender'] = train_data['Gender'].replace('M', 0)\n",
    "train_data['Gender'] = train_data['Gender'].replace('F', 1)"
   ]
  },
  {
   "cell_type": "code",
   "execution_count": 123,
   "id": "87aea31a",
   "metadata": {},
   "outputs": [
    {
     "data": {
      "text/plain": [
       "array([0, 1], dtype=int64)"
      ]
     },
     "execution_count": 123,
     "metadata": {},
     "output_type": "execute_result"
    }
   ],
   "source": [
    "train_data['Gender'].unique()"
   ]
  },
  {
   "cell_type": "code",
   "execution_count": 134,
   "id": "2c3be7b3",
   "metadata": {
    "collapsed": true
   },
   "outputs": [
    {
     "name": "stdout",
     "output_type": "stream",
     "text": [
      "['1339' '1082' '4971' ... '4075' '2486' '1480']\n",
      "count     6999\n",
      "unique    3332\n",
      "top       3000\n",
      "freq       446\n",
      "Name: Weight_in_gms, dtype: int64\n",
      "3000    446\n",
      "1817      8\n",
      "1367      8\n",
      "5709      7\n",
      "1861      7\n",
      "       ... \n",
      "4964      1\n",
      "5612      1\n",
      "2443      1\n",
      "2497      1\n",
      "1480      1\n",
      "Name: Weight_in_gms, Length: 3332, dtype: int64\n"
     ]
    }
   ],
   "source": [
    "# Weight_in_gms 변환 ------- > ?는 3000으로\n",
    "print(train_data['Weight_in_gms'].unique())\n",
    "print(train_data['Weight_in_gms'].describe())\n",
    "print(train_data['Weight_in_gms'].value_counts())"
   ]
  },
  {
   "cell_type": "code",
   "execution_count": 137,
   "id": "09028e5f",
   "metadata": {},
   "outputs": [],
   "source": [
    "train_data['Weight_in_gms'] = train_data['Weight_in_gms'].replace('?', 3000)"
   ]
  },
  {
   "cell_type": "code",
   "execution_count": 143,
   "id": "66fc027d",
   "metadata": {},
   "outputs": [],
   "source": [
    "# type 변경\n",
    "train_data['Weight_in_gms'] = train_data['Weight_in_gms'].astype('int64')"
   ]
  },
  {
   "cell_type": "code",
   "execution_count": 184,
   "id": "e5058f18",
   "metadata": {},
   "outputs": [
    {
     "name": "stdout",
     "output_type": "stream",
     "text": [
      "<class 'pandas.core.series.Series'>\n",
      "Int64Index: 6999 entries, 1 to 6999\n",
      "Series name: Discount_offered\n",
      "Non-Null Count  Dtype  \n",
      "--------------  -----  \n",
      "6999 non-null   float64\n",
      "dtypes: float64(1)\n",
      "memory usage: 367.4 KB\n"
     ]
    }
   ],
   "source": [
    "# Nan 값 및 공백 제거를 위한 타입 변경, 처리 후 다시 형 변환\n",
    "train_data['Discount_offered'] = train_data['Discount_offered'].astype('float64')\n",
    "train_data['Discount_offered'].info()"
   ]
  },
  {
   "cell_type": "code",
   "execution_count": 177,
   "id": "4c910ebe",
   "metadata": {
    "collapsed": true
   },
   "outputs": [
    {
     "data": {
      "text/plain": [
       "ID\n",
       "1        nan\n",
       "2        6.0\n",
       "3        nan\n",
       "4        2.0\n",
       "5        nan\n",
       "        ... \n",
       "6995     4.0\n",
       "6996     nan\n",
       "6997    10.0\n",
       "6998     nan\n",
       "6999     nan\n",
       "Name: Discount_offered, Length: 6999, dtype: object"
      ]
     },
     "execution_count": 177,
     "metadata": {},
     "output_type": "execute_result"
    }
   ],
   "source": [
    "train_data['Discount_offered'].str.strip(' ')"
   ]
  },
  {
   "cell_type": "code",
   "execution_count": 179,
   "id": "16e20a4c",
   "metadata": {},
   "outputs": [],
   "source": [
    "train_data['Discount_offered'] = train_data['Discount_offered'].replace('nan',15)"
   ]
  },
  {
   "cell_type": "code",
   "execution_count": 187,
   "id": "e8f7203a",
   "metadata": {
    "collapsed": true
   },
   "outputs": [
    {
     "name": "stdout",
     "output_type": "stream",
     "text": [
      "<class 'pandas.core.frame.DataFrame'>\n",
      "Int64Index: 6999 entries, 1 to 6999\n",
      "Data columns (total 11 columns):\n",
      " #   Column               Non-Null Count  Dtype  \n",
      "---  ------               --------------  -----  \n",
      " 0   Warehouse_block      6999 non-null   int64  \n",
      " 1   Mode_of_Shipment     6999 non-null   int64  \n",
      " 2   Customer_care_calls  6999 non-null   float64\n",
      " 3   Customer_rating      6999 non-null   int64  \n",
      " 4   Cost_of_the_Product  6999 non-null   int64  \n",
      " 5   Prior_purchases      6999 non-null   float64\n",
      " 6   Product_importance   6999 non-null   int64  \n",
      " 7   Gender               6999 non-null   int64  \n",
      " 8   Discount_offered     6999 non-null   float64\n",
      " 9   Weight_in_gms        6999 non-null   int64  \n",
      " 10  Reached.on.Time_Y.N  6999 non-null   int64  \n",
      "dtypes: float64(3), int64(8)\n",
      "memory usage: 914.2 KB\n"
     ]
    }
   ],
   "source": [
    "train_data.info()    # 모든 데이터 타입 숫자로 바꿈. 결측치 다 채움. 이상값 다 고침, 오타 수정 완료"
   ]
  },
  {
   "cell_type": "code",
   "execution_count": 270,
   "id": "a808274a",
   "metadata": {},
   "outputs": [
    {
     "name": "stdout",
     "output_type": "stream",
     "text": [
      "<class 'pandas.core.frame.DataFrame'>\n",
      "Int64Index: 4000 entries, 7000 to 10999\n",
      "Data columns (total 10 columns):\n",
      " #   Column               Non-Null Count  Dtype  \n",
      "---  ------               --------------  -----  \n",
      " 0   Warehouse_block      4000 non-null   object \n",
      " 1   Mode_of_Shipment     4000 non-null   object \n",
      " 2   Customer_care_calls  3144 non-null   float64\n",
      " 3   Customer_rating      4000 non-null   int64  \n",
      " 4   Cost_of_the_Product  4000 non-null   int64  \n",
      " 5   Prior_purchases      3633 non-null   float64\n",
      " 6   Product_importance   4000 non-null   object \n",
      " 7   Gender               4000 non-null   object \n",
      " 8   Discount_offered     2085 non-null   float64\n",
      " 9   Weight_in_gms        4000 non-null   object \n",
      "dtypes: float64(3), int64(2), object(5)\n",
      "memory usage: 343.8+ KB\n"
     ]
    }
   ],
   "source": [
    "# test_data -----> train_data 와 같이 변경하기\n",
    "test_data.info()"
   ]
  },
  {
   "cell_type": "code",
   "execution_count": 271,
   "id": "b9130638",
   "metadata": {
    "collapsed": true
   },
   "outputs": [
    {
     "data": {
      "text/plain": [
       "ID\n",
       "7000     F\n",
       "7001     F\n",
       "7002     A\n",
       "7003     C\n",
       "7004     F\n",
       "        ..\n",
       "10995    A\n",
       "10996    C\n",
       "10997    B\n",
       "10998    C\n",
       "10999    D\n",
       "Name: Warehouse_block, Length: 4000, dtype: object"
      ]
     },
     "execution_count": 271,
     "metadata": {},
     "output_type": "execute_result"
    }
   ],
   "source": [
    "test_data['Warehouse_block']"
   ]
  },
  {
   "cell_type": "code",
   "execution_count": 272,
   "id": "a050ed28",
   "metadata": {},
   "outputs": [
    {
     "data": {
      "text/plain": [
       "array(['F', 'A', 'C', 'D', 'B'], dtype=object)"
      ]
     },
     "execution_count": 272,
     "metadata": {},
     "output_type": "execute_result"
    }
   ],
   "source": [
    "test_data['Warehouse_block'].unique()"
   ]
  },
  {
   "cell_type": "code",
   "execution_count": 273,
   "id": "a735f1fe",
   "metadata": {},
   "outputs": [
    {
     "data": {
      "text/plain": [
       "4    1355\n",
       "1     671\n",
       "3     666\n",
       "0     659\n",
       "2     649\n",
       "Name: Warehouse_block, dtype: int64"
      ]
     },
     "execution_count": 273,
     "metadata": {},
     "output_type": "execute_result"
    }
   ],
   "source": [
    "# 데이터 타입 변경 및 값 변경\n",
    "test_data['Warehouse_block'] = test_data['Warehouse_block'].replace('A', 0)\n",
    "test_data['Warehouse_block'] = test_data['Warehouse_block'].replace('B', 1)\n",
    "test_data['Warehouse_block'] = test_data['Warehouse_block'].replace('C', 2)\n",
    "test_data['Warehouse_block'] = test_data['Warehouse_block'].replace('D', 3)\n",
    "test_data['Warehouse_block'] = test_data['Warehouse_block'].replace('F', 4)\n",
    "test_data['Warehouse_block'].value_counts()"
   ]
  },
  {
   "cell_type": "code",
   "execution_count": 274,
   "id": "5b426b21",
   "metadata": {},
   "outputs": [
    {
     "name": "stdout",
     "output_type": "stream",
     "text": [
      " Ship      2551\n",
      " Flight     631\n",
      " Road       595\n",
      "?           221\n",
      " Shipzk       1\n",
      " Roadzk       1\n",
      "Name: Mode_of_Shipment, dtype: int64\n"
     ]
    }
   ],
   "source": [
    "# print(test_data['Mode_of_Shipment'].unique())\n",
    "print(test_data['Mode_of_Shipment'].value_counts())\n",
    "test_data['Mode_of_Shipment'] = test_data['Mode_of_Shipment'].str.strip(' ')"
   ]
  },
  {
   "cell_type": "code",
   "execution_count": 275,
   "id": "ca2fb2de",
   "metadata": {},
   "outputs": [],
   "source": [
    "test_data['Mode_of_Shipment'] = test_data['Mode_of_Shipment'].replace('Shipzk', 'Ship')\n",
    "test_data['Mode_of_Shipment'] = test_data['Mode_of_Shipment'].replace('Roadzk', 'Road')\n",
    "test_data['Mode_of_Shipment'] = test_data['Mode_of_Shipment'].replace('?', 'Ship')"
   ]
  },
  {
   "cell_type": "code",
   "execution_count": 276,
   "id": "e25d56b7",
   "metadata": {},
   "outputs": [
    {
     "data": {
      "text/plain": [
       "array(['Ship', 'Flight', 'Road'], dtype=object)"
      ]
     },
     "execution_count": 276,
     "metadata": {},
     "output_type": "execute_result"
    }
   ],
   "source": [
    "test_data['Mode_of_Shipment'].unique()"
   ]
  },
  {
   "cell_type": "code",
   "execution_count": 277,
   "id": "8b62c27b",
   "metadata": {},
   "outputs": [],
   "source": [
    "test_data['Mode_of_Shipment'] = test_data['Mode_of_Shipment'].replace('Ship', 0)\n",
    "test_data['Mode_of_Shipment'] = test_data['Mode_of_Shipment'].replace('Flight', 1)\n",
    "test_data['Mode_of_Shipment'] = test_data['Mode_of_Shipment'].replace('Road', 2)"
   ]
  },
  {
   "cell_type": "code",
   "execution_count": 278,
   "id": "fae31c5d",
   "metadata": {},
   "outputs": [
    {
     "data": {
      "text/plain": [
       "array([0, 1, 2], dtype=int64)"
      ]
     },
     "execution_count": 278,
     "metadata": {},
     "output_type": "execute_result"
    }
   ],
   "source": [
    "test_data['Mode_of_Shipment'].unique()"
   ]
  },
  {
   "cell_type": "code",
   "execution_count": 279,
   "id": "b34f5115",
   "metadata": {
    "collapsed": true
   },
   "outputs": [
    {
     "name": "stdout",
     "output_type": "stream",
     "text": [
      "<class 'pandas.core.frame.DataFrame'>\n",
      "Int64Index: 4000 entries, 7000 to 10999\n",
      "Data columns (total 10 columns):\n",
      " #   Column               Non-Null Count  Dtype  \n",
      "---  ------               --------------  -----  \n",
      " 0   Warehouse_block      4000 non-null   int64  \n",
      " 1   Mode_of_Shipment     4000 non-null   int64  \n",
      " 2   Customer_care_calls  3144 non-null   float64\n",
      " 3   Customer_rating      4000 non-null   int64  \n",
      " 4   Cost_of_the_Product  4000 non-null   int64  \n",
      " 5   Prior_purchases      3633 non-null   float64\n",
      " 6   Product_importance   4000 non-null   object \n",
      " 7   Gender               4000 non-null   object \n",
      " 8   Discount_offered     2085 non-null   float64\n",
      " 9   Weight_in_gms        4000 non-null   object \n",
      "dtypes: float64(3), int64(4), object(3)\n",
      "memory usage: 343.8+ KB\n"
     ]
    }
   ],
   "source": [
    "test_data.info()"
   ]
  },
  {
   "cell_type": "code",
   "execution_count": 268,
   "id": "125a7b4b",
   "metadata": {},
   "outputs": [],
   "source": [
    "test_data.columns = test_data.columns.str.strip(' ')"
   ]
  },
  {
   "cell_type": "code",
   "execution_count": 247,
   "id": "4a6493a8",
   "metadata": {
    "collapsed": true
   },
   "outputs": [
    {
     "name": "stdout",
     "output_type": "stream",
     "text": [
      "<class 'pandas.core.frame.DataFrame'>\n",
      "Int64Index: 6999 entries, 1 to 6999\n",
      "Data columns (total 11 columns):\n",
      " #   Column               Non-Null Count  Dtype  \n",
      "---  ------               --------------  -----  \n",
      " 0   Warehouse_block      6999 non-null   int64  \n",
      " 1   Mode_of_Shipment     6999 non-null   int64  \n",
      " 2   Customer_care_calls  6999 non-null   float64\n",
      " 3   Customer_rating      6999 non-null   int64  \n",
      " 4   Cost_of_the_Product  6999 non-null   int64  \n",
      " 5   Prior_purchases      6999 non-null   float64\n",
      " 6   Product_importance   6999 non-null   int64  \n",
      " 7   Gender               6999 non-null   int64  \n",
      " 8   Discount_offered     6999 non-null   float64\n",
      " 9   Weight_in_gms        6999 non-null   int64  \n",
      " 10  Reached.on.Time_Y.N  6999 non-null   int64  \n",
      "dtypes: float64(3), int64(8)\n",
      "memory usage: 914.2 KB\n"
     ]
    }
   ],
   "source": [
    "train_data.info()"
   ]
  },
  {
   "cell_type": "code",
   "execution_count": 281,
   "id": "f7c6c18f",
   "metadata": {},
   "outputs": [
    {
     "data": {
      "text/plain": [
       "array([ 3., nan,  4.,  6.,  7.,  2.,  5.])"
      ]
     },
     "execution_count": 281,
     "metadata": {},
     "output_type": "execute_result"
    }
   ],
   "source": [
    "test_data['Customer_care_calls'].unique()"
   ]
  },
  {
   "cell_type": "code",
   "execution_count": 282,
   "id": "21670d47",
   "metadata": {
    "collapsed": true
   },
   "outputs": [
    {
     "data": {
      "text/plain": [
       "4.0    990\n",
       "3.0    901\n",
       "5.0    667\n",
       "6.0    311\n",
       "2.0    208\n",
       "7.0     67\n",
       "Name: Customer_care_calls, dtype: int64"
      ]
     },
     "execution_count": 282,
     "metadata": {},
     "output_type": "execute_result"
    }
   ],
   "source": [
    "test_data['Customer_care_calls'].value_counts()"
   ]
  },
  {
   "cell_type": "code",
   "execution_count": 283,
   "id": "b96f8322",
   "metadata": {},
   "outputs": [
    {
     "data": {
      "text/plain": [
       "count    3144.000000\n",
       "mean        4.055025\n",
       "std         1.161132\n",
       "min         2.000000\n",
       "25%         3.000000\n",
       "50%         4.000000\n",
       "75%         5.000000\n",
       "max         7.000000\n",
       "Name: Customer_care_calls, dtype: float64"
      ]
     },
     "execution_count": 283,
     "metadata": {},
     "output_type": "execute_result"
    }
   ],
   "source": [
    "test_data['Customer_care_calls'].describe()"
   ]
  },
  {
   "cell_type": "code",
   "execution_count": 300,
   "id": "663b9d89",
   "metadata": {},
   "outputs": [],
   "source": [
    "test_data['Customer_care_calls'] = test_data['Customer_care_calls'].astype('str')"
   ]
  },
  {
   "cell_type": "code",
   "execution_count": 302,
   "id": "35a6b974",
   "metadata": {},
   "outputs": [],
   "source": [
    "test_data['Customer_care_calls'] = test_data['Customer_care_calls'].str.strip(' ')"
   ]
  },
  {
   "cell_type": "code",
   "execution_count": 303,
   "id": "9946c2f0",
   "metadata": {
    "collapsed": true
   },
   "outputs": [
    {
     "data": {
      "text/plain": [
       "4.0    990\n",
       "3.0    901\n",
       "nan    856\n",
       "5.0    667\n",
       "6.0    311\n",
       "2.0    208\n",
       "7.0     67\n",
       "Name: Customer_care_calls, dtype: int64"
      ]
     },
     "execution_count": 303,
     "metadata": {},
     "output_type": "execute_result"
    }
   ],
   "source": [
    "test_data['Customer_care_calls'].value_counts()"
   ]
  },
  {
   "cell_type": "code",
   "execution_count": 304,
   "id": "54c7b874",
   "metadata": {},
   "outputs": [],
   "source": [
    "test_data['Customer_care_calls'] = test_data['Customer_care_calls'].replace('nan', '4.0')"
   ]
  },
  {
   "cell_type": "code",
   "execution_count": 305,
   "id": "f0d1436c",
   "metadata": {},
   "outputs": [],
   "source": [
    "test_data['Customer_care_calls'] = test_data['Customer_care_calls'].astype('float64')"
   ]
  },
  {
   "cell_type": "code",
   "execution_count": 306,
   "id": "a6761ea3",
   "metadata": {
    "collapsed": true
   },
   "outputs": [
    {
     "data": {
      "text/plain": [
       "ID\n",
       "7000     3.0\n",
       "7001     3.0\n",
       "7002     4.0\n",
       "7003     4.0\n",
       "7004     4.0\n",
       "        ... \n",
       "10995    4.0\n",
       "10996    4.0\n",
       "10997    4.0\n",
       "10998    6.0\n",
       "10999    5.0\n",
       "Name: Customer_care_calls, Length: 4000, dtype: float64"
      ]
     },
     "execution_count": 306,
     "metadata": {},
     "output_type": "execute_result"
    }
   ],
   "source": [
    "test_data['Customer_care_calls']"
   ]
  },
  {
   "cell_type": "code",
   "execution_count": 308,
   "id": "0e70e718",
   "metadata": {
    "collapsed": true
   },
   "outputs": [
    {
     "name": "stdout",
     "output_type": "stream",
     "text": [
      "<class 'pandas.core.frame.DataFrame'>\n",
      "Int64Index: 4000 entries, 7000 to 10999\n",
      "Data columns (total 10 columns):\n",
      " #   Column               Non-Null Count  Dtype  \n",
      "---  ------               --------------  -----  \n",
      " 0   Warehouse_block      4000 non-null   int64  \n",
      " 1   Mode_of_Shipment     4000 non-null   int64  \n",
      " 2   Customer_care_calls  4000 non-null   float64\n",
      " 3   Customer_rating      4000 non-null   int64  \n",
      " 4   Cost_of_the_Product  4000 non-null   int64  \n",
      " 5   Prior_purchases      3633 non-null   float64\n",
      " 6   Product_importance   4000 non-null   object \n",
      " 7   Gender               4000 non-null   object \n",
      " 8   Discount_offered     2085 non-null   float64\n",
      " 9   Weight_in_gms        4000 non-null   object \n",
      "dtypes: float64(3), int64(4), object(3)\n",
      "memory usage: 343.8+ KB\n"
     ]
    }
   ],
   "source": [
    "test_data.info()"
   ]
  },
  {
   "cell_type": "code",
   "execution_count": 309,
   "id": "76dd46b2",
   "metadata": {},
   "outputs": [
    {
     "name": "stdout",
     "output_type": "stream",
     "text": [
      "<class 'pandas.core.series.Series'>\n",
      "Int64Index: 4000 entries, 7000 to 10999\n",
      "Series name: Prior_purchases\n",
      "Non-Null Count  Dtype  \n",
      "--------------  -----  \n",
      "3633 non-null   float64\n",
      "dtypes: float64(1)\n",
      "memory usage: 62.5 KB\n"
     ]
    }
   ],
   "source": [
    "test_data['Prior_purchases'].info()"
   ]
  },
  {
   "cell_type": "code",
   "execution_count": 315,
   "id": "f6b6cbc5",
   "metadata": {},
   "outputs": [
    {
     "data": {
      "text/plain": [
       "3.0     1293\n",
       "2.0      866\n",
       "4.0      723\n",
       "5.0      414\n",
       "6.0      184\n",
       "10.0      56\n",
       "7.0       53\n",
       "8.0       44\n",
       "Name: Prior_purchases, dtype: int64"
      ]
     },
     "execution_count": 315,
     "metadata": {},
     "output_type": "execute_result"
    }
   ],
   "source": [
    "test_data['Prior_purchases'].value_counts()"
   ]
  },
  {
   "cell_type": "code",
   "execution_count": 314,
   "id": "e1779ded",
   "metadata": {},
   "outputs": [
    {
     "data": {
      "text/plain": [
       "array([nan, 2.0, 3.0, 4.0, 6.0, 8.0, 5.0, 7.0, 10.0], dtype=object)"
      ]
     },
     "execution_count": 314,
     "metadata": {},
     "output_type": "execute_result"
    }
   ],
   "source": [
    "test_data['Prior_purchases'].unique()"
   ]
  },
  {
   "cell_type": "code",
   "execution_count": 317,
   "id": "8162b74e",
   "metadata": {},
   "outputs": [],
   "source": [
    "test_data['Prior_purchases'] = test_data['Prior_purchases'].astype('str')"
   ]
  },
  {
   "cell_type": "code",
   "execution_count": 318,
   "id": "59106ede",
   "metadata": {},
   "outputs": [],
   "source": [
    "test_data['Prior_purchases'] = test_data['Prior_purchases'].str.strip(' ')"
   ]
  },
  {
   "cell_type": "code",
   "execution_count": 322,
   "id": "99f3bbc8",
   "metadata": {},
   "outputs": [
    {
     "data": {
      "text/plain": [
       "array(['nan', '2.0', '3.0', '4.0', '6.0', '8.0', '5.0', '7.0', '10.0'],\n",
       "      dtype=object)"
      ]
     },
     "execution_count": 322,
     "metadata": {},
     "output_type": "execute_result"
    }
   ],
   "source": [
    "test_data['Prior_purchases'].unique()"
   ]
  },
  {
   "cell_type": "code",
   "execution_count": 323,
   "id": "574040f9",
   "metadata": {},
   "outputs": [],
   "source": [
    "test_data['Prior_purchases'] = test_data['Prior_purchases'].replace('nan', '4.0')"
   ]
  },
  {
   "cell_type": "code",
   "execution_count": 326,
   "id": "269a2f5d",
   "metadata": {},
   "outputs": [],
   "source": [
    "test_data['Prior_purchases'] = test_data['Prior_purchases'].astype('float64')"
   ]
  },
  {
   "cell_type": "code",
   "execution_count": 354,
   "id": "c13f768a",
   "metadata": {},
   "outputs": [
    {
     "name": "stdout",
     "output_type": "stream",
     "text": [
      "<class 'pandas.core.frame.DataFrame'>\n",
      "Int64Index: 4000 entries, 7000 to 10999\n",
      "Data columns (total 10 columns):\n",
      " #   Column               Non-Null Count  Dtype  \n",
      "---  ------               --------------  -----  \n",
      " 0   Warehouse_block      4000 non-null   int64  \n",
      " 1   Mode_of_Shipment     4000 non-null   int64  \n",
      " 2   Customer_care_calls  4000 non-null   float64\n",
      " 3   Customer_rating      4000 non-null   int64  \n",
      " 4   Cost_of_the_Product  4000 non-null   int64  \n",
      " 5   Prior_purchases      4000 non-null   float64\n",
      " 6   Product_importance   4000 non-null   int64  \n",
      " 7   Gender               4000 non-null   int64  \n",
      " 8   Discount_offered     4000 non-null   float64\n",
      " 9   Weight_in_gms        4000 non-null   object \n",
      "dtypes: float64(3), int64(6), object(1)\n",
      "memory usage: 343.8+ KB\n"
     ]
    }
   ],
   "source": [
    "test_data.info()"
   ]
  },
  {
   "cell_type": "code",
   "execution_count": 335,
   "id": "9ff99d78",
   "metadata": {},
   "outputs": [
    {
     "data": {
      "text/plain": [
       "array([2, 1, 0], dtype=int64)"
      ]
     },
     "execution_count": 335,
     "metadata": {},
     "output_type": "execute_result"
    }
   ],
   "source": [
    "test_data['Product_importance'].unique()"
   ]
  },
  {
   "cell_type": "code",
   "execution_count": 332,
   "id": "83891203",
   "metadata": {},
   "outputs": [],
   "source": [
    "test_data['Product_importance'] = test_data['Product_importance'].replace('mediumm', 'medium')\n",
    "test_data['Product_importance'] = test_data['Product_importance'].replace('?', 'low')"
   ]
  },
  {
   "cell_type": "code",
   "execution_count": 334,
   "id": "b9551a2c",
   "metadata": {},
   "outputs": [],
   "source": [
    "test_data['Product_importance'] = test_data['Product_importance'].replace('medium', 1)\n",
    "test_data['Product_importance'] = test_data['Product_importance'].replace('low', 0)\n",
    "test_data['Product_importance'] = test_data['Product_importance'].replace('high', 2)"
   ]
  },
  {
   "cell_type": "code",
   "execution_count": 339,
   "id": "d9be5c77",
   "metadata": {},
   "outputs": [
    {
     "data": {
      "text/plain": [
       "array([0, 1], dtype=int64)"
      ]
     },
     "execution_count": 339,
     "metadata": {},
     "output_type": "execute_result"
    }
   ],
   "source": [
    "test_data['Gender'].unique()"
   ]
  },
  {
   "cell_type": "code",
   "execution_count": 338,
   "id": "37d8eaa9",
   "metadata": {},
   "outputs": [],
   "source": [
    "test_data['Gender'] = test_data['Gender'].replace('M', 0)\n",
    "test_data['Gender'] = test_data['Gender'].replace('F', 1)"
   ]
  },
  {
   "cell_type": "code",
   "execution_count": 345,
   "id": "5d009180",
   "metadata": {},
   "outputs": [
    {
     "data": {
      "text/plain": [
       "array(['nan', '7.0', '5.0', '64.0', '4.0', '29.0', '10.0', '8.0', '31.0',\n",
       "       '53.0', '1.0', '22.0', '49.0', '3.0', '52.0', '6.0', '9.0', '20.0',\n",
       "       '61.0', '2.0', '39.0', '43.0', '48.0', '54.0', '26.0', '42.0',\n",
       "       '46.0', '41.0', '16.0', '13.0', '15.0', '35.0', '28.0', '34.0',\n",
       "       '33.0', '37.0', '27.0', '36.0', '63.0', '40.0', '62.0', '38.0',\n",
       "       '25.0', '51.0', '45.0', '32.0', '50.0', '21.0', '58.0', '65.0',\n",
       "       '57.0', '17.0', '24.0', '12.0', '47.0', '56.0', '60.0', '59.0',\n",
       "       '30.0', '18.0', '55.0', '19.0', '11.0', '23.0', '44.0', '14.0'],\n",
       "      dtype=object)"
      ]
     },
     "execution_count": 345,
     "metadata": {},
     "output_type": "execute_result"
    }
   ],
   "source": [
    "test_data['Discount_offered'].unique()"
   ]
  },
  {
   "cell_type": "code",
   "execution_count": 343,
   "id": "1398a4dc",
   "metadata": {},
   "outputs": [],
   "source": [
    "test_data['Discount_offered'] = test_data['Discount_offered'].astype('str')"
   ]
  },
  {
   "cell_type": "code",
   "execution_count": 344,
   "id": "12afdae4",
   "metadata": {},
   "outputs": [],
   "source": [
    "test_data['Discount_offered'] = test_data['Discount_offered'].str.strip(' ')"
   ]
  },
  {
   "cell_type": "code",
   "execution_count": 353,
   "id": "55850016",
   "metadata": {},
   "outputs": [
    {
     "data": {
      "text/plain": [
       "count    4000.000000\n",
       "mean       13.147000\n",
       "std        11.432085\n",
       "min         1.000000\n",
       "25%         7.000000\n",
       "50%        13.000000\n",
       "75%        13.000000\n",
       "max        65.000000\n",
       "Name: Discount_offered, dtype: float64"
      ]
     },
     "execution_count": 353,
     "metadata": {},
     "output_type": "execute_result"
    }
   ],
   "source": [
    "test_data['Discount_offered'].describe()"
   ]
  },
  {
   "cell_type": "code",
   "execution_count": 350,
   "id": "3947527f",
   "metadata": {},
   "outputs": [],
   "source": [
    "test_data['Discount_offered'] = test_data['Discount_offered'].replace('nan', '13')"
   ]
  },
  {
   "cell_type": "code",
   "execution_count": 352,
   "id": "b51d7929",
   "metadata": {},
   "outputs": [],
   "source": [
    "test_data['Discount_offered'] = test_data['Discount_offered'].astype('float64')"
   ]
  },
  {
   "cell_type": "code",
   "execution_count": 360,
   "id": "fe27266d",
   "metadata": {},
   "outputs": [],
   "source": [
    "test_data['Weight_in_gms'] = test_data['Weight_in_gms'].str.strip(' ')"
   ]
  },
  {
   "cell_type": "code",
   "execution_count": 364,
   "id": "26a70608",
   "metadata": {},
   "outputs": [
    {
     "data": {
      "text/plain": [
       "?       252\n",
       "4883      9\n",
       "5724      7\n",
       "5783      6\n",
       "4410      6\n",
       "       ... \n",
       "5953      1\n",
       "2774      1\n",
       "4084      1\n",
       "5864      1\n",
       "3869      1\n",
       "Name: Weight_in_gms, Length: 2452, dtype: int64"
      ]
     },
     "execution_count": 364,
     "metadata": {},
     "output_type": "execute_result"
    }
   ],
   "source": [
    "test_data['Weight_in_gms'].value_counts()"
   ]
  },
  {
   "cell_type": "code",
   "execution_count": 366,
   "id": "26c0716c",
   "metadata": {},
   "outputs": [],
   "source": [
    "test_data['Weight_in_gms'] = test_data['Weight_in_gms'].replace('?', 3600)"
   ]
  },
  {
   "cell_type": "code",
   "execution_count": 367,
   "id": "b4ffbb88",
   "metadata": {},
   "outputs": [
    {
     "data": {
      "text/plain": [
       "count     4000\n",
       "unique    2452\n",
       "top       3600\n",
       "freq       252\n",
       "Name: Weight_in_gms, dtype: int64"
      ]
     },
     "execution_count": 367,
     "metadata": {},
     "output_type": "execute_result"
    }
   ],
   "source": [
    "test_data['Weight_in_gms'].describe()"
   ]
  },
  {
   "cell_type": "code",
   "execution_count": 369,
   "id": "7ad7807b",
   "metadata": {},
   "outputs": [],
   "source": [
    "test_data['Weight_in_gms'] = test_data['Weight_in_gms'].astype('int64')"
   ]
  },
  {
   "cell_type": "code",
   "execution_count": 370,
   "id": "39214fa2",
   "metadata": {},
   "outputs": [
    {
     "name": "stdout",
     "output_type": "stream",
     "text": [
      "<class 'pandas.core.frame.DataFrame'>\n",
      "Int64Index: 4000 entries, 7000 to 10999\n",
      "Data columns (total 10 columns):\n",
      " #   Column               Non-Null Count  Dtype  \n",
      "---  ------               --------------  -----  \n",
      " 0   Warehouse_block      4000 non-null   int64  \n",
      " 1   Mode_of_Shipment     4000 non-null   int64  \n",
      " 2   Customer_care_calls  4000 non-null   float64\n",
      " 3   Customer_rating      4000 non-null   int64  \n",
      " 4   Cost_of_the_Product  4000 non-null   int64  \n",
      " 5   Prior_purchases      4000 non-null   float64\n",
      " 6   Product_importance   4000 non-null   int64  \n",
      " 7   Gender               4000 non-null   int64  \n",
      " 8   Discount_offered     4000 non-null   float64\n",
      " 9   Weight_in_gms        4000 non-null   int64  \n",
      "dtypes: float64(3), int64(7)\n",
      "memory usage: 343.8 KB\n",
      "<class 'pandas.core.frame.DataFrame'>\n",
      "Int64Index: 6999 entries, 1 to 6999\n",
      "Data columns (total 11 columns):\n",
      " #   Column               Non-Null Count  Dtype  \n",
      "---  ------               --------------  -----  \n",
      " 0   Warehouse_block      6999 non-null   int64  \n",
      " 1   Mode_of_Shipment     6999 non-null   int64  \n",
      " 2   Customer_care_calls  6999 non-null   float64\n",
      " 3   Customer_rating      6999 non-null   int64  \n",
      " 4   Cost_of_the_Product  6999 non-null   int64  \n",
      " 5   Prior_purchases      6999 non-null   float64\n",
      " 6   Product_importance   6999 non-null   int64  \n",
      " 7   Gender               6999 non-null   int64  \n",
      " 8   Discount_offered     6999 non-null   float64\n",
      " 9   Weight_in_gms        6999 non-null   int64  \n",
      " 10  Reached.on.Time_Y.N  6999 non-null   int64  \n",
      "dtypes: float64(3), int64(8)\n",
      "memory usage: 914.2 KB\n"
     ]
    }
   ],
   "source": [
    "test_data.info()\n",
    "train_data.info()"
   ]
  },
  {
   "cell_type": "code",
   "execution_count": 382,
   "id": "eff7511f",
   "metadata": {},
   "outputs": [],
   "source": [
    "X_train = train_data.iloc[:,:-1]\n",
    "y_train = train_data.iloc[:,-1]\n",
    "X_test = test_data"
   ]
  },
  {
   "cell_type": "code",
   "execution_count": 383,
   "id": "62d15bfa",
   "metadata": {},
   "outputs": [
    {
     "name": "stdout",
     "output_type": "stream",
     "text": [
      "훈련용문제 :  (6999, 10)\n",
      "훈련용답 :  (6999,)\n",
      "테스트용문제 :  (4000, 10)\n"
     ]
    }
   ],
   "source": [
    "print('훈련용문제 : ', X_train.shape)\n",
    "print('훈련용답 : ', y_train.shape)\n",
    "print('테스트용문제 : ', X_test.shape)"
   ]
  },
  {
   "cell_type": "code",
   "execution_count": 851,
   "id": "e8d5f27d",
   "metadata": {},
   "outputs": [
    {
     "data": {
      "text/plain": [
       "array([1, 1, 0, ..., 0, 1, 1], dtype=int64)"
      ]
     },
     "execution_count": 851,
     "metadata": {},
     "output_type": "execute_result"
    }
   ],
   "source": [
    "# 모델생성\n",
    "tree_model = DecisionTreeClassifier()\n",
    "# 모델 학습\n",
    "tree_model.fit(X_train2, y_train2)\n",
    "# 예측\n",
    "pre = tree_model.predict(X_test2)\n",
    "pre"
   ]
  },
  {
   "cell_type": "code",
   "execution_count": 392,
   "id": "8fd4ffec",
   "metadata": {},
   "outputs": [
    {
     "data": {
      "text/html": [
       "<div>\n",
       "<style scoped>\n",
       "    .dataframe tbody tr th:only-of-type {\n",
       "        vertical-align: middle;\n",
       "    }\n",
       "\n",
       "    .dataframe tbody tr th {\n",
       "        vertical-align: top;\n",
       "    }\n",
       "\n",
       "    .dataframe thead th {\n",
       "        text-align: right;\n",
       "    }\n",
       "</style>\n",
       "<table border=\"1\" class=\"dataframe\">\n",
       "  <thead>\n",
       "    <tr style=\"text-align: right;\">\n",
       "      <th></th>\n",
       "      <th>ID</th>\n",
       "      <th>Reached.on.Time_Y.N</th>\n",
       "    </tr>\n",
       "  </thead>\n",
       "  <tbody>\n",
       "    <tr>\n",
       "      <th>0</th>\n",
       "      <td>7000</td>\n",
       "      <td>NaN</td>\n",
       "    </tr>\n",
       "    <tr>\n",
       "      <th>1</th>\n",
       "      <td>7001</td>\n",
       "      <td>NaN</td>\n",
       "    </tr>\n",
       "    <tr>\n",
       "      <th>2</th>\n",
       "      <td>7002</td>\n",
       "      <td>NaN</td>\n",
       "    </tr>\n",
       "    <tr>\n",
       "      <th>3</th>\n",
       "      <td>7003</td>\n",
       "      <td>NaN</td>\n",
       "    </tr>\n",
       "    <tr>\n",
       "      <th>4</th>\n",
       "      <td>7004</td>\n",
       "      <td>NaN</td>\n",
       "    </tr>\n",
       "    <tr>\n",
       "      <th>...</th>\n",
       "      <td>...</td>\n",
       "      <td>...</td>\n",
       "    </tr>\n",
       "    <tr>\n",
       "      <th>3995</th>\n",
       "      <td>10995</td>\n",
       "      <td>NaN</td>\n",
       "    </tr>\n",
       "    <tr>\n",
       "      <th>3996</th>\n",
       "      <td>10996</td>\n",
       "      <td>NaN</td>\n",
       "    </tr>\n",
       "    <tr>\n",
       "      <th>3997</th>\n",
       "      <td>10997</td>\n",
       "      <td>NaN</td>\n",
       "    </tr>\n",
       "    <tr>\n",
       "      <th>3998</th>\n",
       "      <td>10998</td>\n",
       "      <td>NaN</td>\n",
       "    </tr>\n",
       "    <tr>\n",
       "      <th>3999</th>\n",
       "      <td>10999</td>\n",
       "      <td>NaN</td>\n",
       "    </tr>\n",
       "  </tbody>\n",
       "</table>\n",
       "<p>4000 rows × 2 columns</p>\n",
       "</div>"
      ],
      "text/plain": [
       "         ID  Reached.on.Time_Y.N\n",
       "0      7000                  NaN\n",
       "1      7001                  NaN\n",
       "2      7002                  NaN\n",
       "3      7003                  NaN\n",
       "4      7004                  NaN\n",
       "...     ...                  ...\n",
       "3995  10995                  NaN\n",
       "3996  10996                  NaN\n",
       "3997  10997                  NaN\n",
       "3998  10998                  NaN\n",
       "3999  10999                  NaN\n",
       "\n",
       "[4000 rows x 2 columns]"
      ]
     },
     "execution_count": 392,
     "metadata": {},
     "output_type": "execute_result"
    }
   ],
   "source": [
    "result = pd.read_csv('./data/bigdatasc/sampleSubmission.csv')\n",
    "result"
   ]
  },
  {
   "cell_type": "code",
   "execution_count": 852,
   "id": "3cff74c9",
   "metadata": {},
   "outputs": [],
   "source": [
    "result['Reached.on.Time_Y.N'] = pre"
   ]
  },
  {
   "cell_type": "code",
   "execution_count": 853,
   "id": "f2b9221e",
   "metadata": {},
   "outputs": [],
   "source": [
    "result.to_csv('top5_sampleSubmission.csv', index=False)"
   ]
  },
  {
   "cell_type": "code",
   "execution_count": 391,
   "id": "f126c969",
   "metadata": {},
   "outputs": [
    {
     "name": "stdout",
     "output_type": "stream",
     "text": [
      "<class 'pandas.core.frame.DataFrame'>\n",
      "Int64Index: 6999 entries, 1 to 6999\n",
      "Data columns (total 11 columns):\n",
      " #   Column               Non-Null Count  Dtype  \n",
      "---  ------               --------------  -----  \n",
      " 0   Warehouse_block      6999 non-null   int64  \n",
      " 1   Mode_of_Shipment     6999 non-null   int64  \n",
      " 2   Customer_care_calls  6999 non-null   float64\n",
      " 3   Customer_rating      6999 non-null   int64  \n",
      " 4   Cost_of_the_Product  6999 non-null   int64  \n",
      " 5   Prior_purchases      6999 non-null   float64\n",
      " 6   Product_importance   6999 non-null   int64  \n",
      " 7   Gender               6999 non-null   int64  \n",
      " 8   Discount_offered     6999 non-null   float64\n",
      " 9   Weight_in_gms        6999 non-null   int64  \n",
      " 10  Reached.on.Time_Y.N  6999 non-null   int64  \n",
      "dtypes: float64(3), int64(8)\n",
      "memory usage: 914.2 KB\n"
     ]
    }
   ],
   "source": [
    "train_data.info()"
   ]
  },
  {
   "cell_type": "code",
   "execution_count": 839,
   "id": "f73704b6",
   "metadata": {},
   "outputs": [],
   "source": [
    "forest_model = RandomForestClassifier()"
   ]
  },
  {
   "cell_type": "code",
   "execution_count": 840,
   "id": "17833db0",
   "metadata": {},
   "outputs": [
    {
     "data": {
      "text/plain": [
       "RandomForestClassifier()"
      ]
     },
     "execution_count": 840,
     "metadata": {},
     "output_type": "execute_result"
    }
   ],
   "source": [
    "forest_model.fit(X_train2, y_train2)"
   ]
  },
  {
   "cell_type": "code",
   "execution_count": 841,
   "id": "9da025b4",
   "metadata": {},
   "outputs": [],
   "source": [
    "rf_result = cross_val_score(forest_model, X_train2, y_train2, cv = 5)"
   ]
  },
  {
   "cell_type": "code",
   "execution_count": 842,
   "id": "c94a000f",
   "metadata": {},
   "outputs": [
    {
     "data": {
      "text/plain": [
       "0.6502394567548249"
      ]
     },
     "execution_count": 842,
     "metadata": {},
     "output_type": "execute_result"
    }
   ],
   "source": [
    "rf_result.mean()"
   ]
  },
  {
   "cell_type": "code",
   "execution_count": 843,
   "id": "56700a37",
   "metadata": {},
   "outputs": [],
   "source": [
    "model = RandomForestClassifier(random_state = 33)"
   ]
  },
  {
   "cell_type": "code",
   "execution_count": 844,
   "id": "a7f7f74e",
   "metadata": {},
   "outputs": [],
   "source": [
    "params = {'n_estimators' : [50, 70, 100, 150], \n",
    "          'max_depth' : [3, 5, 7], \n",
    "          'max_leaf_nodes' : [2, 4, 6],\n",
    "         'min_samples_split' : [3, 5, 7]}"
   ]
  },
  {
   "cell_type": "code",
   "execution_count": 845,
   "id": "042e79ed",
   "metadata": {},
   "outputs": [],
   "source": [
    "grid = GridSearchCV(model, params, cv = 5, scoring = 'accuracy', n_jobs = -1)"
   ]
  },
  {
   "cell_type": "code",
   "execution_count": 846,
   "id": "79a4d787",
   "metadata": {},
   "outputs": [
    {
     "data": {
      "text/plain": [
       "GridSearchCV(cv=5, estimator=RandomForestClassifier(random_state=33), n_jobs=-1,\n",
       "             param_grid={'max_depth': [3, 5, 7], 'max_leaf_nodes': [2, 4, 6],\n",
       "                         'min_samples_split': [3, 5, 7],\n",
       "                         'n_estimators': [50, 70, 100, 150]},\n",
       "             scoring='accuracy')"
      ]
     },
     "execution_count": 846,
     "metadata": {},
     "output_type": "execute_result"
    }
   ],
   "source": [
    "grid.fit(X_train2, y_train2)"
   ]
  },
  {
   "cell_type": "code",
   "execution_count": 847,
   "id": "5bcd5cd7",
   "metadata": {},
   "outputs": [
    {
     "name": "stdout",
     "output_type": "stream",
     "text": [
      "0.6666685387521699\n",
      "{'max_depth': 3, 'max_leaf_nodes': 4, 'min_samples_split': 3, 'n_estimators': 150}\n",
      "RandomForestClassifier(max_depth=3, max_leaf_nodes=4, min_samples_split=3,\n",
      "                       n_estimators=150, random_state=33)\n"
     ]
    }
   ],
   "source": [
    "print(grid.best_score_)\n",
    "print(grid.best_params_)\n",
    "print(grid.best_estimator_)"
   ]
  },
  {
   "cell_type": "code",
   "execution_count": 835,
   "id": "68660431",
   "metadata": {},
   "outputs": [
    {
     "data": {
      "text/plain": [
       "0"
      ]
     },
     "execution_count": 835,
     "metadata": {},
     "output_type": "execute_result"
    }
   ],
   "source": [
    "grid.best_index_"
   ]
  },
  {
   "cell_type": "code",
   "execution_count": 440,
   "id": "6d94b71d",
   "metadata": {},
   "outputs": [],
   "source": [
    "from sklearn.ensemble import AdaBoostClassifier"
   ]
  },
  {
   "cell_type": "code",
   "execution_count": 508,
   "id": "865bd99f",
   "metadata": {},
   "outputs": [],
   "source": [
    "ada_clf = AdaBoostClassifier(n_estimators = 100, random_state = 42)"
   ]
  },
  {
   "cell_type": "code",
   "execution_count": 509,
   "id": "ed1e891c",
   "metadata": {},
   "outputs": [
    {
     "data": {
      "text/plain": [
       "AdaBoostClassifier(n_estimators=100, random_state=42)"
      ]
     },
     "execution_count": 509,
     "metadata": {},
     "output_type": "execute_result"
    }
   ],
   "source": [
    "ada_clf.fit(X_train, y_train)"
   ]
  },
  {
   "cell_type": "code",
   "execution_count": 510,
   "id": "752e9d93",
   "metadata": {},
   "outputs": [],
   "source": [
    "pre_ada = ada_clf.predict(X_test)"
   ]
  },
  {
   "cell_type": "code",
   "execution_count": 511,
   "id": "6b5f4984",
   "metadata": {},
   "outputs": [
    {
     "data": {
      "text/plain": [
       "array([0, 1, 0, ..., 0, 1, 1], dtype=int64)"
      ]
     },
     "execution_count": 511,
     "metadata": {},
     "output_type": "execute_result"
    }
   ],
   "source": [
    "pre_ada"
   ]
  },
  {
   "cell_type": "code",
   "execution_count": 512,
   "id": "a7e5349f",
   "metadata": {},
   "outputs": [],
   "source": [
    "result['Reached.on.Time_Y.N'] = pre_ada"
   ]
  },
  {
   "cell_type": "code",
   "execution_count": 513,
   "id": "87c6bb92",
   "metadata": {},
   "outputs": [],
   "source": [
    "result.to_csv('top3_sampleSubmission.csv', index=False)"
   ]
  },
  {
   "cell_type": "code",
   "execution_count": 527,
   "id": "895d5548",
   "metadata": {
    "scrolled": true
   },
   "outputs": [
    {
     "data": {
      "text/plain": [
       "Reached.on.Time_Y.N    1.000000\n",
       "Discount_offered       0.278709\n",
       "Weight_in_gms          0.259856\n",
       "Customer_care_calls    0.062842\n",
       "Prior_purchases        0.057114\n",
       "Product_importance     0.020316\n",
       "Cost_of_the_Product    0.012811\n",
       "Customer_rating        0.011275\n",
       "Mode_of_Shipment       0.005801\n",
       "Warehouse_block        0.003872\n",
       "Gender                 0.000378\n",
       "Name: Reached.on.Time_Y.N, dtype: float64"
      ]
     },
     "execution_count": 527,
     "metadata": {},
     "output_type": "execute_result"
    }
   ],
   "source": [
    "train_data.corr()['Reached.on.Time_Y.N'].abs().sort_values(ascending=False)"
   ]
  },
  {
   "cell_type": "code",
   "execution_count": 848,
   "id": "294136eb",
   "metadata": {},
   "outputs": [],
   "source": [
    "X_train2 = train_data[['Warehouse_block','Customer_care_calls','Cost_of_the_Product','Discount_offered','Weight_in_gms','Product_importance']]\n",
    "y_train2 = train_data['Reached.on.Time_Y.N']"
   ]
  },
  {
   "cell_type": "code",
   "execution_count": 849,
   "id": "751cc187",
   "metadata": {},
   "outputs": [],
   "source": [
    "X_test2 = test_data[['Warehouse_block','Customer_care_calls','Cost_of_the_Product','Discount_offered','Weight_in_gms','Product_importance']]"
   ]
  },
  {
   "cell_type": "code",
   "execution_count": 850,
   "id": "395545f6",
   "metadata": {},
   "outputs": [
    {
     "data": {
      "text/html": [
       "<div>\n",
       "<style scoped>\n",
       "    .dataframe tbody tr th:only-of-type {\n",
       "        vertical-align: middle;\n",
       "    }\n",
       "\n",
       "    .dataframe tbody tr th {\n",
       "        vertical-align: top;\n",
       "    }\n",
       "\n",
       "    .dataframe thead th {\n",
       "        text-align: right;\n",
       "    }\n",
       "</style>\n",
       "<table border=\"1\" class=\"dataframe\">\n",
       "  <thead>\n",
       "    <tr style=\"text-align: right;\">\n",
       "      <th></th>\n",
       "      <th>Warehouse_block</th>\n",
       "      <th>Customer_care_calls</th>\n",
       "      <th>Cost_of_the_Product</th>\n",
       "      <th>Discount_offered</th>\n",
       "      <th>Weight_in_gms</th>\n",
       "      <th>Product_importance</th>\n",
       "    </tr>\n",
       "    <tr>\n",
       "      <th>ID</th>\n",
       "      <th></th>\n",
       "      <th></th>\n",
       "      <th></th>\n",
       "      <th></th>\n",
       "      <th></th>\n",
       "      <th></th>\n",
       "    </tr>\n",
       "  </thead>\n",
       "  <tbody>\n",
       "    <tr>\n",
       "      <th>7000</th>\n",
       "      <td>4</td>\n",
       "      <td>3.0</td>\n",
       "      <td>274</td>\n",
       "      <td>13.0</td>\n",
       "      <td>4352</td>\n",
       "      <td>2</td>\n",
       "    </tr>\n",
       "    <tr>\n",
       "      <th>7001</th>\n",
       "      <td>4</td>\n",
       "      <td>3.0</td>\n",
       "      <td>136</td>\n",
       "      <td>13.0</td>\n",
       "      <td>1056</td>\n",
       "      <td>1</td>\n",
       "    </tr>\n",
       "    <tr>\n",
       "      <th>7002</th>\n",
       "      <td>0</td>\n",
       "      <td>4.0</td>\n",
       "      <td>140</td>\n",
       "      <td>7.0</td>\n",
       "      <td>5383</td>\n",
       "      <td>0</td>\n",
       "    </tr>\n",
       "    <tr>\n",
       "      <th>7003</th>\n",
       "      <td>2</td>\n",
       "      <td>4.0</td>\n",
       "      <td>291</td>\n",
       "      <td>13.0</td>\n",
       "      <td>1880</td>\n",
       "      <td>0</td>\n",
       "    </tr>\n",
       "    <tr>\n",
       "      <th>7004</th>\n",
       "      <td>4</td>\n",
       "      <td>4.0</td>\n",
       "      <td>147</td>\n",
       "      <td>5.0</td>\n",
       "      <td>5174</td>\n",
       "      <td>0</td>\n",
       "    </tr>\n",
       "    <tr>\n",
       "      <th>...</th>\n",
       "      <td>...</td>\n",
       "      <td>...</td>\n",
       "      <td>...</td>\n",
       "      <td>...</td>\n",
       "      <td>...</td>\n",
       "      <td>...</td>\n",
       "    </tr>\n",
       "    <tr>\n",
       "      <th>10995</th>\n",
       "      <td>0</td>\n",
       "      <td>4.0</td>\n",
       "      <td>204</td>\n",
       "      <td>13.0</td>\n",
       "      <td>1667</td>\n",
       "      <td>0</td>\n",
       "    </tr>\n",
       "    <tr>\n",
       "      <th>10996</th>\n",
       "      <td>2</td>\n",
       "      <td>4.0</td>\n",
       "      <td>195</td>\n",
       "      <td>13.0</td>\n",
       "      <td>3869</td>\n",
       "      <td>1</td>\n",
       "    </tr>\n",
       "    <tr>\n",
       "      <th>10997</th>\n",
       "      <td>1</td>\n",
       "      <td>4.0</td>\n",
       "      <td>206</td>\n",
       "      <td>7.0</td>\n",
       "      <td>4531</td>\n",
       "      <td>1</td>\n",
       "    </tr>\n",
       "    <tr>\n",
       "      <th>10998</th>\n",
       "      <td>2</td>\n",
       "      <td>6.0</td>\n",
       "      <td>255</td>\n",
       "      <td>7.0</td>\n",
       "      <td>1869</td>\n",
       "      <td>0</td>\n",
       "    </tr>\n",
       "    <tr>\n",
       "      <th>10999</th>\n",
       "      <td>3</td>\n",
       "      <td>5.0</td>\n",
       "      <td>252</td>\n",
       "      <td>4.0</td>\n",
       "      <td>1308</td>\n",
       "      <td>0</td>\n",
       "    </tr>\n",
       "  </tbody>\n",
       "</table>\n",
       "<p>4000 rows × 6 columns</p>\n",
       "</div>"
      ],
      "text/plain": [
       "       Warehouse_block  Customer_care_calls  Cost_of_the_Product  \\\n",
       "ID                                                                 \n",
       "7000                 4                  3.0                  274   \n",
       "7001                 4                  3.0                  136   \n",
       "7002                 0                  4.0                  140   \n",
       "7003                 2                  4.0                  291   \n",
       "7004                 4                  4.0                  147   \n",
       "...                ...                  ...                  ...   \n",
       "10995                0                  4.0                  204   \n",
       "10996                2                  4.0                  195   \n",
       "10997                1                  4.0                  206   \n",
       "10998                2                  6.0                  255   \n",
       "10999                3                  5.0                  252   \n",
       "\n",
       "       Discount_offered  Weight_in_gms  Product_importance  \n",
       "ID                                                          \n",
       "7000               13.0           4352                   2  \n",
       "7001               13.0           1056                   1  \n",
       "7002                7.0           5383                   0  \n",
       "7003               13.0           1880                   0  \n",
       "7004                5.0           5174                   0  \n",
       "...                 ...            ...                 ...  \n",
       "10995              13.0           1667                   0  \n",
       "10996              13.0           3869                   1  \n",
       "10997               7.0           4531                   1  \n",
       "10998               7.0           1869                   0  \n",
       "10999               4.0           1308                   0  \n",
       "\n",
       "[4000 rows x 6 columns]"
      ]
     },
     "execution_count": 850,
     "metadata": {},
     "output_type": "execute_result"
    }
   ],
   "source": [
    "X_test2"
   ]
  },
  {
   "cell_type": "code",
   "execution_count": 820,
   "id": "3f6accac",
   "metadata": {},
   "outputs": [
    {
     "data": {
      "text/plain": [
       "array([0, 1, 0, ..., 0, 1, 1], dtype=int64)"
      ]
     },
     "execution_count": 820,
     "metadata": {},
     "output_type": "execute_result"
    }
   ],
   "source": [
    "pre_fr = forest_model.predict(X_test2)\n",
    "pre_fr"
   ]
  },
  {
   "cell_type": "code",
   "execution_count": null,
   "id": "7cde9b6e",
   "metadata": {},
   "outputs": [],
   "source": []
  }
 ],
 "metadata": {
  "kernelspec": {
   "display_name": "Python 3 (ipykernel)",
   "language": "python",
   "name": "python3"
  },
  "language_info": {
   "codemirror_mode": {
    "name": "ipython",
    "version": 3
   },
   "file_extension": ".py",
   "mimetype": "text/x-python",
   "name": "python",
   "nbconvert_exporter": "python",
   "pygments_lexer": "ipython3",
   "version": "3.9.12"
  }
 },
 "nbformat": 4,
 "nbformat_minor": 5
}
